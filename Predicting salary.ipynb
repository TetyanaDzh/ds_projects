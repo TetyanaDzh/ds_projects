{
 "cells": [
  {
   "cell_type": "markdown",
   "metadata": {
    "collapsed": false
   },
   "source": [
    "#### Using Web Scraping and Logistic Regression to predict salary range in Data Science field in the US."
   ]
  },
  {
   "cell_type": "markdown",
   "metadata": {},
   "source": [
    "Data: \n",
    "\n",
    "Data comes from a job aggregator Indeed. I have scraped job postings for cities (and their closest towns) that I consider the biggest markets for Data Science in the US. I have also looked at which cities had most pages with job posts and thus decided to analyze data for 7 cities. All findings will apply to those regions only. \n",
    "\n",
    "For each job post I have collected this information: job location, job title, company, salary, text of the job posting.\n",
    "\n",
    "The goal here is to explore, which factors impact the salary and build a model that predicts the range of the salary. Normally, regression could be used here, but we will make it a classification problem and use Logistic Regression. There's a fair amount of natural variance in the data, that's why we will be predicting a range (high or low), instead of amount."
   ]
  },
  {
   "cell_type": "code",
   "execution_count": 3,
   "metadata": {
    "collapsed": true
   },
   "outputs": [],
   "source": [
    "import requests\n",
    "from bs4 import BeautifulSoup\n",
    "\n",
    "import pandas as pd\n",
    "import numpy as np\n",
    "\n",
    "from IPython.core.display import HTML, Image"
   ]
  },
  {
   "cell_type": "markdown",
   "metadata": {},
   "source": [
    "First, I wrote a function that turns scraped data into BeautifulSoup."
   ]
  },
  {
   "cell_type": "code",
   "execution_count": 56,
   "metadata": {
    "collapsed": false
   },
   "outputs": [],
   "source": [
    "def get_soup_from_url(url):\n",
    "\n",
    "    response = requests.get(url)\n",
    "    page = response.text\n",
    "    soup = BeautifulSoup(page)\n",
    "    \n",
    "    return soup"
   ]
  },
  {
   "cell_type": "markdown",
   "metadata": {},
   "source": [
    "This function will pull all the data I need from every job posting: for my research, I am interested in job title, company, location, salary and text body of the job post."
   ]
  },
  {
   "cell_type": "code",
   "execution_count": 57,
   "metadata": {
    "collapsed": false
   },
   "outputs": [],
   "source": [
    "def get_posting_info(url):\n",
    "    soup = get_soup_from_url(url)\n",
    "    res_div = soup.findAll(\"div\", class_=[\"row\", \"results\"])\n",
    "    my_data = []\n",
    "    for jt in res_div:\n",
    "        \n",
    "        try:\n",
    "            job = jt.find(class_=\"jobtitle\").text.replace('\\n','')\n",
    "        except:\n",
    "            job= None\n",
    "        \n",
    "        try:\n",
    "            company = jt.find(class_=\"company\").text.strip()\n",
    "        except:\n",
    "            company = None\n",
    "        \n",
    "        try:\n",
    "            location = jt.find('span', class_='location').text\n",
    "        except:\n",
    "            location = None\n",
    "\n",
    "        try: \n",
    "            salary = jt.find('nobr').text\n",
    "        except:\n",
    "            salary = None\n",
    "\n",
    "        try:\n",
    "            text_body = jt.find('span', class_='summary').text\n",
    "        except:\n",
    "            text_body = None\n",
    "\n",
    "        sr = (job, location, company, salary, text_body)\n",
    "\n",
    "        my_data.append(sr)\n",
    "    return my_data\n",
    "    \n",
    "    "
   ]
  },
  {
   "cell_type": "markdown",
   "metadata": {},
   "source": [
    "I have 7 cities I want to work with and they each have multiple pages with job postings on indeed.com. I need a loop that would go to the page for each city and also loop through those pages and collect links so that I have enough job posts to work with. "
   ]
  },
  {
   "cell_type": "code",
   "execution_count": 58,
   "metadata": {
    "collapsed": false
   },
   "outputs": [
    {
     "name": "stdout",
     "output_type": "stream",
     "text": [
      ". . . . . . . . . . . . . . . . . . . . . . . . . . . . . . . . . . . . . . . . . . . . . . . . . . . . . . . . . . . . . . . . . . . . . . . . . . . . . . . . . . . . . . . . . . . . . . . . . . . . ['New+York', 'NY'] . . . . . . . . . . . . . . . . . . . . . . . . . . . . . . . . . . . . . . . . . . . . . . . . . . . . . . . . . . . . . . . . . . . . . . . . . . . . . . . . . . . . . . . . . . . . . . . . . . . . ['Austin', 'TX'] . . . . . . . . . . . . . . . . . . . . . . . . . . . . . . . . . . . . . . . . . . . . . . . . . . . . . . . . . . . . . . . . . . . . . . . . . . . . . . . . . . . . . . . . . . . . . . . . . . . . ['San+Francisco', 'CA'] . . . . . . . . . . . . . . . . . . . . . . . . . . . . . . . . . . . . . . . . . . . . . . . . . . . . . . . . . . . . . . . . . . . . . . . . . . . . . . . . . . . . . . . . . . . . . . . . . . . . ['Boston', 'MA'] . . . . . . . . . . . . . . . . . . . . . . . . . . . . . . . . . . . . . . . . . . . . . . . . . . . . . . . . . . . . . . . . . . . . . . . . . . . . . . . . . . . . . . . . . . . . . . . . . . . . ['Seattle', 'WA'] . . . . . . . . . . . . . . . . . . . . . . . . . . . . . . . . . . . . . . . . . . . . . . . . . . . . . . . . . . . . . . . . . . . . . . . . . . . . . . . . . . . . . . . . . . . . . . . . . . . . ['Washington', 'DC'] . . . . . . . . . . . . . . . . . . . . . . . . . . . . . . . . . . . . . . . . . . . . . . . . . . . . . . . . . . . . . . . . . . . . . . . . . . . . . . . . . . . . . . . . . . . . . . . . . . . . ['Mountain+View', 'CA']\n"
     ]
    }
   ],
   "source": [
    "url = ['https://www.indeed.com/jobs?q=data+scientist&l=', '&start=']\n",
    "\n",
    "cities= [\n",
    "    ['New+York', 'NY'], \n",
    "    ['Austin', 'TX'], \n",
    "    ['San+Francisco', 'CA'], \n",
    "    ['Boston', 'MA'], \n",
    "    ['Seattle', 'WA'],\n",
    "    ['Washington', 'DC'],\n",
    "    ['Mountain+View', 'CA']\n",
    "]\n",
    "max_posts=1000\n",
    "list_of_links = []\n",
    "for i in range(len(cities)):\n",
    "    for start in range(0, max_posts, 10):\n",
    "        link=url[0] + cities[i][0] + '%2C' + cities[i][1] + url[1] + str(start)\n",
    "        list_of_links.append(link)\n",
    "  \n",
    "        print '.',\n",
    "    print cities[i],"
   ]
  },
  {
   "cell_type": "code",
   "execution_count": 59,
   "metadata": {
    "collapsed": false
   },
   "outputs": [
    {
     "data": {
      "text/plain": [
       "700"
      ]
     },
     "execution_count": 59,
     "metadata": {},
     "output_type": "execute_result"
    }
   ],
   "source": [
    "len(list_of_links)"
   ]
  },
  {
   "cell_type": "markdown",
   "metadata": {},
   "source": [
    "I have the list of links and now I am ready to scrape again and get all information for my research."
   ]
  },
  {
   "cell_type": "code",
   "execution_count": 60,
   "metadata": {
    "collapsed": false
   },
   "outputs": [
    {
     "name": "stderr",
     "output_type": "stream",
     "text": [
      "//anaconda/lib/python2.7/site-packages/bs4/__init__.py:181: UserWarning: No parser was explicitly specified, so I'm using the best available HTML parser for this system (\"lxml\"). This usually isn't a problem, but if you run this code on another system, or in a different virtual environment, it may use a different parser and behave differently.\n",
      "\n",
      "The code that caused this warning is on line 174 of the file //anaconda/lib/python2.7/runpy.py. To get rid of this warning, change code that looks like this:\n",
      "\n",
      " BeautifulSoup([your markup])\n",
      "\n",
      "to this:\n",
      "\n",
      " BeautifulSoup([your markup], \"lxml\")\n",
      "\n",
      "  markup_type=markup_type))\n"
     ]
    },
    {
     "name": "stdout",
     "output_type": "stream",
     "text": [
      ". . . . . . . . . . . . . . . . . . . . . . . . . . . . . . . . . . . . . . . . . . . . . . . . . . . . . . . . . . . . . . . . . . . . . . . . . . . . . . . . . . . . . . . . . . . . . . . . . . . . . . . . . . . . . . . . . . . . . . . . . . . . . . . . . . . . . . . . . . . . . . . . . . . . . . . . . . . . . . . . . . . . . . . . . . . . . . . . . . . . . . . . . . . . . . . . . . . . . . . . . . . . . . . . . . . . . . . . . . . . . . . . . . . . . . . . . . . . . . . . . . . . . . . . . . . . . . . . . . . . . . . . . . . . . . . . . . . . . . . . . . . . . . . . . . . . . . . . . . . . . . . . . . . . . . . . . . . . . . . . . . . . . . . . . . . . . . . . . . . . . . . . . . . . . . . . . . . . . . . . . . . . . . . . . . . . . . . . . . . . . . . . . . . . . . . . . . . . . . . . . . . . . . . . . . . . . . . . . . . . . . . . . . . . . . . . . . . . . . . . . . . . . . . . . . . . . . . . . . . . . . . . . . . . . . . . . . . . . . . . . . . . . . . . . . . . . . . . . . . . . . . . . . . . . . . . . . . . . . . . . . . . . . . . . . . . . . . . . . . . . . . . . . . . . . . . . . . . . . . . . . . . . . . . . . . . . . . . . . . . . . . . . . . . . . . . . . . . . . . . . . . . . . . . . . . . . . . . . . . . . . . . . . . . . . . . . . . . . . . . . . . . . . . . . . . . . . . . . . . . . . . . . . . . . . . . . . . . . . . . . . . . . . . . . . . . . . . . . . . .\n"
     ]
    }
   ],
   "source": [
    "table = []\n",
    "for url in list_of_links:\n",
    "    info = get_posting_info(url)\n",
    "    table.append(info)\n",
    "    print '.',"
   ]
  },
  {
   "cell_type": "code",
   "execution_count": 61,
   "metadata": {
    "collapsed": false
   },
   "outputs": [
    {
     "data": {
      "text/plain": [
       "700"
      ]
     },
     "execution_count": 61,
     "metadata": {},
     "output_type": "execute_result"
    }
   ],
   "source": [
    "len(table)"
   ]
  },
  {
   "cell_type": "code",
   "execution_count": 62,
   "metadata": {
    "collapsed": false
   },
   "outputs": [
    {
     "data": {
      "text/plain": [
       "(u'Data Scientist - Big Data & Analytics',\n",
       " u'New York, NY 10154',\n",
       " u'KPMG',\n",
       " None,\n",
       " u'Analyze and model structured data and implement algorithms to support analysis using advanced statistical and mathematical methods from statistics, machine...')"
      ]
     },
     "execution_count": 62,
     "metadata": {},
     "output_type": "execute_result"
    }
   ],
   "source": [
    "table[0][0]"
   ]
  },
  {
   "cell_type": "code",
   "execution_count": 63,
   "metadata": {
    "collapsed": false
   },
   "outputs": [
    {
     "name": "stdout",
     "output_type": "stream",
     "text": [
      ". . . . . . . . . . . . . . . . . . . . . . . . . . . . . . . . . . . . . . . . . . . . . . . . . . . . . . . . . . . . . . . . . . . . . . . . . . . . . . . . . . . . . . . . . . . . . . . . . . . . . . . . . . . . . . . . . . . . . . . . . . . . . . . . . . . . . . . . . . . . . . . . . . . . . . . . . . . . . . . . . . . . . . . . . . . . . . . . . . . . . . . . . . . . . . . . . . . . . . . . . . . . . . . . . . . . . . . . . . . . . . . . . . . . . . . . . . . . . . . . . . . . . . . . . . . . . . . . . . . . . . . . . . . . . . . . . . . . . . . . . . . . . . . . . . . . . . . . . . . . . . . . . . . . . . . . . . . . . . . . . . . . . . . . . . . . . . . . . . . . . . . . . . . . . . . . . . . . . . . . . . . . . . . . . . . . . . . . . . . . . . . . . . . . . . . . . . . . . . . . . . . . . . . . . . . . . . . . . . . . . . . . . . . . . . . . . . . . . . . . . . . . . . . . . . . . . . . . . . . . . . . . . . . . . . . . . . . . . . . . . . . . . . . . . . . . . . . . . . . . . . . . . . . . . . . . . . . . . . . . . . . . . . . . . . . . . . . . . . . . . . . . . . . . . . . . . . . . . . . . . . . . . . . . . . . . . . . . . . . . . . . . . . . . . . . . . . . . . . . . . . . . . . . . . . . . . . . . . . . . . . . . . . . . . . . . . . . . . . . . . . . . . . . . . . . . . . . . . . . . . . . . . . . . . . . . . . . . . . . . . . . . . . . . . . . . . . . . . . . .\n"
     ]
    }
   ],
   "source": [
    "big_df=pd.DataFrame()\n",
    "for element in table:\n",
    "    print '.',\n",
    "    df = pd.DataFrame(element, columns=['title', 'location', 'company', 'salary', 'text'])\n",
    "    big_df=pd.concat([big_df, df])\n",
    "    "
   ]
  },
  {
   "cell_type": "code",
   "execution_count": 64,
   "metadata": {
    "collapsed": false
   },
   "outputs": [
    {
     "data": {
      "text/plain": [
       "10478"
      ]
     },
     "execution_count": 64,
     "metadata": {},
     "output_type": "execute_result"
    }
   ],
   "source": [
    "len(big_df)"
   ]
  },
  {
   "cell_type": "code",
   "execution_count": 65,
   "metadata": {
    "collapsed": false
   },
   "outputs": [
    {
     "data": {
      "text/html": [
       "<div>\n",
       "<table border=\"1\" class=\"dataframe\">\n",
       "  <thead>\n",
       "    <tr style=\"text-align: right;\">\n",
       "      <th></th>\n",
       "      <th>title</th>\n",
       "      <th>location</th>\n",
       "      <th>company</th>\n",
       "      <th>salary</th>\n",
       "      <th>text</th>\n",
       "    </tr>\n",
       "  </thead>\n",
       "  <tbody>\n",
       "    <tr>\n",
       "      <th>0</th>\n",
       "      <td>Data Scientist - Big Data &amp; Analytics</td>\n",
       "      <td>New York, NY 10154</td>\n",
       "      <td>KPMG</td>\n",
       "      <td>None</td>\n",
       "      <td>Analyze and model structured data and implemen...</td>\n",
       "    </tr>\n",
       "    <tr>\n",
       "      <th>1</th>\n",
       "      <td>Deep Learning Data Scientist</td>\n",
       "      <td>New York, NY</td>\n",
       "      <td>WorkFusion</td>\n",
       "      <td>None</td>\n",
       "      <td>Deep learning via multilayered neural networks...</td>\n",
       "    </tr>\n",
       "    <tr>\n",
       "      <th>2</th>\n",
       "      <td>Data Scientist</td>\n",
       "      <td>New York, NY 10154</td>\n",
       "      <td>KPMG</td>\n",
       "      <td>None</td>\n",
       "      <td>Machine learning, data visualization, statisti...</td>\n",
       "    </tr>\n",
       "    <tr>\n",
       "      <th>3</th>\n",
       "      <td>Data Scientist</td>\n",
       "      <td>New York, NY 10016 (Gramercy area)</td>\n",
       "      <td>Gilt Groupe</td>\n",
       "      <td>None</td>\n",
       "      <td>\\nData scientists use the tools of statistics ...</td>\n",
       "    </tr>\n",
       "    <tr>\n",
       "      <th>4</th>\n",
       "      <td>Data Scientist</td>\n",
       "      <td>New York, NY</td>\n",
       "      <td>Rockstar New York</td>\n",
       "      <td>None</td>\n",
       "      <td>\\nExtensive knowledge of machine learning tech...</td>\n",
       "    </tr>\n",
       "    <tr>\n",
       "      <th>5</th>\n",
       "      <td>Data Scientist</td>\n",
       "      <td>New York, NY</td>\n",
       "      <td>Isaacson Search Company</td>\n",
       "      <td>None</td>\n",
       "      <td>\\nMust have deep knowledge of modern data para...</td>\n",
       "    </tr>\n",
       "    <tr>\n",
       "      <th>6</th>\n",
       "      <td>Quantitative Researcher / Data Scientist</td>\n",
       "      <td>New York, NY</td>\n",
       "      <td>DRW</td>\n",
       "      <td>None</td>\n",
       "      <td>\\nWe are looking for a Data Scientist / Quanti...</td>\n",
       "    </tr>\n",
       "    <tr>\n",
       "      <th>7</th>\n",
       "      <td>Data Scientist</td>\n",
       "      <td>New York, NY 10018 (Clinton area)</td>\n",
       "      <td>AbilTo, Inc</td>\n",
       "      <td>None</td>\n",
       "      <td>\\nWith our Research team, you will build claim...</td>\n",
       "    </tr>\n",
       "    <tr>\n",
       "      <th>8</th>\n",
       "      <td>Data Scientist at FXcompared</td>\n",
       "      <td>New York, NY</td>\n",
       "      <td>Brooklyn Data Science</td>\n",
       "      <td>None</td>\n",
       "      <td>\\nWe are looking for full-time Data Scientists...</td>\n",
       "    </tr>\n",
       "    <tr>\n",
       "      <th>9</th>\n",
       "      <td>Data Scientist - Nielsen Marketing Cloud</td>\n",
       "      <td>New York, NY 10003 (Greenwich Village area)</td>\n",
       "      <td>Nielsen</td>\n",
       "      <td>None</td>\n",
       "      <td>\\nMinimum of 3+ years relevant analytics and d...</td>\n",
       "    </tr>\n",
       "    <tr>\n",
       "      <th>10</th>\n",
       "      <td>Data Scientist</td>\n",
       "      <td>New York, NY</td>\n",
       "      <td>IBM</td>\n",
       "      <td>None</td>\n",
       "      <td>\\n2 years’ experience such as analyzing data a...</td>\n",
       "    </tr>\n",
       "    <tr>\n",
       "      <th>11</th>\n",
       "      <td>Data Scientist</td>\n",
       "      <td>New York, NY 10003 (Greenwich Village area)</td>\n",
       "      <td>Medidata Solutions</td>\n",
       "      <td>None</td>\n",
       "      <td>\\nWith the current transformation in the life ...</td>\n",
       "    </tr>\n",
       "    <tr>\n",
       "      <th>12</th>\n",
       "      <td>Quantitative Finance Analyst</td>\n",
       "      <td>New York, NY</td>\n",
       "      <td>Bank of America</td>\n",
       "      <td>None</td>\n",
       "      <td>\\nAbility to manage multiple work efforts and ...</td>\n",
       "    </tr>\n",
       "    <tr>\n",
       "      <th>13</th>\n",
       "      <td>Software Engineer / Research Scientist - Machi...</td>\n",
       "      <td>New York, NY</td>\n",
       "      <td>Bloomberg</td>\n",
       "      <td>None</td>\n",
       "      <td>Bloomberg's Machine Learning Group - a group o...</td>\n",
       "    </tr>\n",
       "    <tr>\n",
       "      <th>14</th>\n",
       "      <td>Applied Machine Learning Scientist/Engineer - ...</td>\n",
       "      <td>New York, NY</td>\n",
       "      <td>Bloomberg</td>\n",
       "      <td>None</td>\n",
       "      <td>A research scientist and engineer who wants to...</td>\n",
       "    </tr>\n",
       "    <tr>\n",
       "      <th>0</th>\n",
       "      <td>Applied Machine Learning Scientist/Engineer - ...</td>\n",
       "      <td>New York, NY</td>\n",
       "      <td>Bloomberg</td>\n",
       "      <td>None</td>\n",
       "      <td>A research scientist and engineer who wants to...</td>\n",
       "    </tr>\n",
       "    <tr>\n",
       "      <th>1</th>\n",
       "      <td>Software Engineer / Research Scientist - Machi...</td>\n",
       "      <td>New York, NY</td>\n",
       "      <td>Bloomberg</td>\n",
       "      <td>None</td>\n",
       "      <td>Bloomberg's Machine Learning Group - a group o...</td>\n",
       "    </tr>\n",
       "    <tr>\n",
       "      <th>2</th>\n",
       "      <td>Data Scientist</td>\n",
       "      <td>New York, NY 10154</td>\n",
       "      <td>KPMG</td>\n",
       "      <td>None</td>\n",
       "      <td>Machine learning, data visualization, statisti...</td>\n",
       "    </tr>\n",
       "    <tr>\n",
       "      <th>3</th>\n",
       "      <td>Data Scientist</td>\n",
       "      <td>New York, NY 10003 (Greenwich Village area)</td>\n",
       "      <td>Medidata Solutions</td>\n",
       "      <td>None</td>\n",
       "      <td>\\nWith the current transformation in the life ...</td>\n",
       "    </tr>\n",
       "    <tr>\n",
       "      <th>4</th>\n",
       "      <td>Data Scientist</td>\n",
       "      <td>New York, NY</td>\n",
       "      <td>Scienaptic Systems Inc</td>\n",
       "      <td>$100,000 a year</td>\n",
       "      <td>\\nAs our representative in front of client, yo...</td>\n",
       "    </tr>\n",
       "  </tbody>\n",
       "</table>\n",
       "</div>"
      ],
      "text/plain": [
       "                                                title  \\\n",
       "0               Data Scientist - Big Data & Analytics   \n",
       "1                        Deep Learning Data Scientist   \n",
       "2                                      Data Scientist   \n",
       "3                                      Data Scientist   \n",
       "4                                      Data Scientist   \n",
       "5                                      Data Scientist   \n",
       "6            Quantitative Researcher / Data Scientist   \n",
       "7                                      Data Scientist   \n",
       "8                        Data Scientist at FXcompared   \n",
       "9            Data Scientist - Nielsen Marketing Cloud   \n",
       "10                                     Data Scientist   \n",
       "11                                     Data Scientist   \n",
       "12                       Quantitative Finance Analyst   \n",
       "13  Software Engineer / Research Scientist - Machi...   \n",
       "14  Applied Machine Learning Scientist/Engineer - ...   \n",
       "0   Applied Machine Learning Scientist/Engineer - ...   \n",
       "1   Software Engineer / Research Scientist - Machi...   \n",
       "2                                      Data Scientist   \n",
       "3                                      Data Scientist   \n",
       "4                                      Data Scientist   \n",
       "\n",
       "                                       location                  company  \\\n",
       "0                            New York, NY 10154                     KPMG   \n",
       "1                                  New York, NY               WorkFusion   \n",
       "2                            New York, NY 10154                     KPMG   \n",
       "3            New York, NY 10016 (Gramercy area)              Gilt Groupe   \n",
       "4                                  New York, NY        Rockstar New York   \n",
       "5                                  New York, NY  Isaacson Search Company   \n",
       "6                                  New York, NY                      DRW   \n",
       "7             New York, NY 10018 (Clinton area)              AbilTo, Inc   \n",
       "8                                  New York, NY    Brooklyn Data Science   \n",
       "9   New York, NY 10003 (Greenwich Village area)                  Nielsen   \n",
       "10                                 New York, NY                      IBM   \n",
       "11  New York, NY 10003 (Greenwich Village area)       Medidata Solutions   \n",
       "12                                 New York, NY          Bank of America   \n",
       "13                                 New York, NY                Bloomberg   \n",
       "14                                 New York, NY                Bloomberg   \n",
       "0                                  New York, NY                Bloomberg   \n",
       "1                                  New York, NY                Bloomberg   \n",
       "2                            New York, NY 10154                     KPMG   \n",
       "3   New York, NY 10003 (Greenwich Village area)       Medidata Solutions   \n",
       "4                                  New York, NY   Scienaptic Systems Inc   \n",
       "\n",
       "             salary                                               text  \n",
       "0              None  Analyze and model structured data and implemen...  \n",
       "1              None  Deep learning via multilayered neural networks...  \n",
       "2              None  Machine learning, data visualization, statisti...  \n",
       "3              None  \\nData scientists use the tools of statistics ...  \n",
       "4              None  \\nExtensive knowledge of machine learning tech...  \n",
       "5              None  \\nMust have deep knowledge of modern data para...  \n",
       "6              None  \\nWe are looking for a Data Scientist / Quanti...  \n",
       "7              None  \\nWith our Research team, you will build claim...  \n",
       "8              None  \\nWe are looking for full-time Data Scientists...  \n",
       "9              None  \\nMinimum of 3+ years relevant analytics and d...  \n",
       "10             None  \\n2 years’ experience such as analyzing data a...  \n",
       "11             None  \\nWith the current transformation in the life ...  \n",
       "12             None  \\nAbility to manage multiple work efforts and ...  \n",
       "13             None  Bloomberg's Machine Learning Group - a group o...  \n",
       "14             None  A research scientist and engineer who wants to...  \n",
       "0              None  A research scientist and engineer who wants to...  \n",
       "1              None  Bloomberg's Machine Learning Group - a group o...  \n",
       "2              None  Machine learning, data visualization, statisti...  \n",
       "3              None  \\nWith the current transformation in the life ...  \n",
       "4   $100,000 a year  \\nAs our representative in front of client, yo...  "
      ]
     },
     "execution_count": 65,
     "metadata": {},
     "output_type": "execute_result"
    }
   ],
   "source": [
    "big_df.head(20)"
   ]
  },
  {
   "cell_type": "code",
   "execution_count": 4,
   "metadata": {
    "collapsed": false
   },
   "outputs": [],
   "source": [
    "# big_df.to_csv('firstscrapeXXXXX.csv', encoding='utf-8')\n",
    "firstscrape = pd.read_csv(\"firstscrapeXXXXX.csv\")"
   ]
  },
  {
   "cell_type": "markdown",
   "metadata": {},
   "source": [
    "After inspecting the dataframe I see that for most posts the salary information is missing. I can only work with those entries, where there's salary info, so I am dropping everything else."
   ]
  },
  {
   "cell_type": "code",
   "execution_count": 5,
   "metadata": {
    "collapsed": false
   },
   "outputs": [],
   "source": [
    "firstscrape = firstscrape.dropna()"
   ]
  },
  {
   "cell_type": "code",
   "execution_count": 6,
   "metadata": {
    "collapsed": false
   },
   "outputs": [
    {
     "data": {
      "text/html": [
       "<div>\n",
       "<table border=\"1\" class=\"dataframe\">\n",
       "  <thead>\n",
       "    <tr style=\"text-align: right;\">\n",
       "      <th></th>\n",
       "      <th>Unnamed: 0</th>\n",
       "      <th>title</th>\n",
       "      <th>location</th>\n",
       "      <th>company</th>\n",
       "      <th>salary</th>\n",
       "      <th>text</th>\n",
       "    </tr>\n",
       "  </thead>\n",
       "  <tbody>\n",
       "    <tr>\n",
       "      <th>19</th>\n",
       "      <td>4</td>\n",
       "      <td>Data Scientist</td>\n",
       "      <td>New York, NY</td>\n",
       "      <td>Scienaptic Systems Inc</td>\n",
       "      <td>$100,000 a year</td>\n",
       "      <td>\\nAs our representative in front of client, yo...</td>\n",
       "    </tr>\n",
       "    <tr>\n",
       "      <th>42</th>\n",
       "      <td>12</td>\n",
       "      <td>Senior Data Scientist/Predictive Modeller</td>\n",
       "      <td>New York, NY</td>\n",
       "      <td>Oliver James Associates</td>\n",
       "      <td>$160,000 - $200,000 a year</td>\n",
       "      <td>\\nCreate project milestone plans to ensure pro...</td>\n",
       "    </tr>\n",
       "    <tr>\n",
       "      <th>97</th>\n",
       "      <td>7</td>\n",
       "      <td>Data Scientist</td>\n",
       "      <td>New York, NY</td>\n",
       "      <td>Oliver James Associates</td>\n",
       "      <td>$90,000 a year</td>\n",
       "      <td>\\nDevelops and builds alignment within Product...</td>\n",
       "    </tr>\n",
       "    <tr>\n",
       "      <th>99</th>\n",
       "      <td>9</td>\n",
       "      <td>Data Scientist (Media)</td>\n",
       "      <td>New York, NY</td>\n",
       "      <td>Principle Solutions Group</td>\n",
       "      <td>$140,000 a year</td>\n",
       "      <td>\\nData Scientist (Media). Requirements for Dat...</td>\n",
       "    </tr>\n",
       "    <tr>\n",
       "      <th>102</th>\n",
       "      <td>12</td>\n",
       "      <td>Data Scientist</td>\n",
       "      <td>New York, NY</td>\n",
       "      <td>TW Staffing Solutions</td>\n",
       "      <td>$199,000 a year</td>\n",
       "      <td>\\nRun scripts and other machine learning tools...</td>\n",
       "    </tr>\n",
       "  </tbody>\n",
       "</table>\n",
       "</div>"
      ],
      "text/plain": [
       "     Unnamed: 0                                      title      location  \\\n",
       "19            4                             Data Scientist  New York, NY   \n",
       "42           12  Senior Data Scientist/Predictive Modeller  New York, NY   \n",
       "97            7                             Data Scientist  New York, NY   \n",
       "99            9                     Data Scientist (Media)  New York, NY   \n",
       "102          12                             Data Scientist  New York, NY   \n",
       "\n",
       "                       company                      salary  \\\n",
       "19      Scienaptic Systems Inc             $100,000 a year   \n",
       "42     Oliver James Associates  $160,000 - $200,000 a year   \n",
       "97     Oliver James Associates              $90,000 a year   \n",
       "99   Principle Solutions Group             $140,000 a year   \n",
       "102      TW Staffing Solutions             $199,000 a year   \n",
       "\n",
       "                                                  text  \n",
       "19   \\nAs our representative in front of client, yo...  \n",
       "42   \\nCreate project milestone plans to ensure pro...  \n",
       "97   \\nDevelops and builds alignment within Product...  \n",
       "99   \\nData Scientist (Media). Requirements for Dat...  \n",
       "102  \\nRun scripts and other machine learning tools...  "
      ]
     },
     "execution_count": 6,
     "metadata": {},
     "output_type": "execute_result"
    }
   ],
   "source": [
    "firstscrape.head(5)"
   ]
  },
  {
   "cell_type": "code",
   "execution_count": 7,
   "metadata": {
    "collapsed": false
   },
   "outputs": [
    {
     "data": {
      "text/plain": [
       "306"
      ]
     },
     "execution_count": 7,
     "metadata": {},
     "output_type": "execute_result"
    }
   ],
   "source": [
    "len(firstscrape)"
   ]
  },
  {
   "cell_type": "markdown",
   "metadata": {},
   "source": [
    "Looks much better, but now I am down to 306 lines in my dataframe. I also need to remove all duplicates - there are a lot of job posts that posted more the once."
   ]
  },
  {
   "cell_type": "code",
   "execution_count": 8,
   "metadata": {
    "collapsed": false
   },
   "outputs": [],
   "source": [
    "firstscrape =firstscrape.drop_duplicates()"
   ]
  },
  {
   "cell_type": "code",
   "execution_count": 9,
   "metadata": {
    "collapsed": false
   },
   "outputs": [
    {
     "data": {
      "text/plain": [
       "181"
      ]
     },
     "execution_count": 9,
     "metadata": {},
     "output_type": "execute_result"
    }
   ],
   "source": [
    "len(firstscrape)"
   ]
  },
  {
   "cell_type": "code",
   "execution_count": 10,
   "metadata": {
    "collapsed": false
   },
   "outputs": [],
   "source": [
    "firstscrape = firstscrape.reset_index(drop=True)"
   ]
  },
  {
   "cell_type": "code",
   "execution_count": 11,
   "metadata": {
    "collapsed": false
   },
   "outputs": [],
   "source": [
    "firstscrape.drop('Unnamed: 0', inplace=True, axis=1)\n"
   ]
  },
  {
   "cell_type": "code",
   "execution_count": 12,
   "metadata": {
    "collapsed": false
   },
   "outputs": [
    {
     "data": {
      "text/html": [
       "<div>\n",
       "<table border=\"1\" class=\"dataframe\">\n",
       "  <thead>\n",
       "    <tr style=\"text-align: right;\">\n",
       "      <th></th>\n",
       "      <th>title</th>\n",
       "      <th>location</th>\n",
       "      <th>company</th>\n",
       "      <th>salary</th>\n",
       "      <th>text</th>\n",
       "    </tr>\n",
       "  </thead>\n",
       "  <tbody>\n",
       "    <tr>\n",
       "      <th>0</th>\n",
       "      <td>Data Scientist</td>\n",
       "      <td>New York, NY</td>\n",
       "      <td>Scienaptic Systems Inc</td>\n",
       "      <td>$100,000 a year</td>\n",
       "      <td>\\nAs our representative in front of client, yo...</td>\n",
       "    </tr>\n",
       "    <tr>\n",
       "      <th>1</th>\n",
       "      <td>Senior Data Scientist/Predictive Modeller</td>\n",
       "      <td>New York, NY</td>\n",
       "      <td>Oliver James Associates</td>\n",
       "      <td>$160,000 - $200,000 a year</td>\n",
       "      <td>\\nCreate project milestone plans to ensure pro...</td>\n",
       "    </tr>\n",
       "    <tr>\n",
       "      <th>2</th>\n",
       "      <td>Data Scientist</td>\n",
       "      <td>New York, NY</td>\n",
       "      <td>Oliver James Associates</td>\n",
       "      <td>$90,000 a year</td>\n",
       "      <td>\\nDevelops and builds alignment within Product...</td>\n",
       "    </tr>\n",
       "    <tr>\n",
       "      <th>3</th>\n",
       "      <td>Data Scientist (Media)</td>\n",
       "      <td>New York, NY</td>\n",
       "      <td>Principle Solutions Group</td>\n",
       "      <td>$140,000 a year</td>\n",
       "      <td>\\nData Scientist (Media). Requirements for Dat...</td>\n",
       "    </tr>\n",
       "    <tr>\n",
       "      <th>4</th>\n",
       "      <td>Data Scientist</td>\n",
       "      <td>New York, NY</td>\n",
       "      <td>TW Staffing Solutions</td>\n",
       "      <td>$199,000 a year</td>\n",
       "      <td>\\nRun scripts and other machine learning tools...</td>\n",
       "    </tr>\n",
       "  </tbody>\n",
       "</table>\n",
       "</div>"
      ],
      "text/plain": [
       "                                       title      location  \\\n",
       "0                             Data Scientist  New York, NY   \n",
       "1  Senior Data Scientist/Predictive Modeller  New York, NY   \n",
       "2                             Data Scientist  New York, NY   \n",
       "3                     Data Scientist (Media)  New York, NY   \n",
       "4                             Data Scientist  New York, NY   \n",
       "\n",
       "                     company                      salary  \\\n",
       "0     Scienaptic Systems Inc             $100,000 a year   \n",
       "1    Oliver James Associates  $160,000 - $200,000 a year   \n",
       "2    Oliver James Associates              $90,000 a year   \n",
       "3  Principle Solutions Group             $140,000 a year   \n",
       "4      TW Staffing Solutions             $199,000 a year   \n",
       "\n",
       "                                                text  \n",
       "0  \\nAs our representative in front of client, yo...  \n",
       "1  \\nCreate project milestone plans to ensure pro...  \n",
       "2  \\nDevelops and builds alignment within Product...  \n",
       "3  \\nData Scientist (Media). Requirements for Dat...  \n",
       "4  \\nRun scripts and other machine learning tools...  "
      ]
     },
     "execution_count": 12,
     "metadata": {},
     "output_type": "execute_result"
    }
   ],
   "source": [
    "firstscrape.head(5)"
   ]
  },
  {
   "cell_type": "markdown",
   "metadata": {},
   "source": [
    "I start cleaning my salary data - I decided not to use hourly, daily and weekely rate - I think those are the rates for temporary and contracted positions and not a true representation of a salary for a full time position in Data Science field."
   ]
  },
  {
   "cell_type": "code",
   "execution_count": 13,
   "metadata": {
    "collapsed": false
   },
   "outputs": [],
   "source": [
    "for i in firstscrape['salary']:\n",
    "    try:\n",
    "        firstscrape['salary'] = firstscrape['salary'].str.lstrip('$')\n",
    "    except:\n",
    "        pass\n",
    "    \n",
    "    try:\n",
    "        firstscrape['salary'] = firstscrape['salary'].astype(float)\n",
    "    except:\n",
    "        pass\n",
    "\n"
   ]
  },
  {
   "cell_type": "code",
   "execution_count": 14,
   "metadata": {
    "collapsed": false
   },
   "outputs": [
    {
     "data": {
      "text/html": [
       "<div>\n",
       "<table border=\"1\" class=\"dataframe\">\n",
       "  <thead>\n",
       "    <tr style=\"text-align: right;\">\n",
       "      <th></th>\n",
       "      <th>title</th>\n",
       "      <th>location</th>\n",
       "      <th>company</th>\n",
       "      <th>salary</th>\n",
       "      <th>text</th>\n",
       "    </tr>\n",
       "  </thead>\n",
       "  <tbody>\n",
       "    <tr>\n",
       "      <th>0</th>\n",
       "      <td>Data Scientist</td>\n",
       "      <td>New York, NY</td>\n",
       "      <td>Scienaptic Systems Inc</td>\n",
       "      <td>100,000 a year</td>\n",
       "      <td>\\nAs our representative in front of client, yo...</td>\n",
       "    </tr>\n",
       "    <tr>\n",
       "      <th>1</th>\n",
       "      <td>Senior Data Scientist/Predictive Modeller</td>\n",
       "      <td>New York, NY</td>\n",
       "      <td>Oliver James Associates</td>\n",
       "      <td>160,000 - $200,000 a year</td>\n",
       "      <td>\\nCreate project milestone plans to ensure pro...</td>\n",
       "    </tr>\n",
       "    <tr>\n",
       "      <th>2</th>\n",
       "      <td>Data Scientist</td>\n",
       "      <td>New York, NY</td>\n",
       "      <td>Oliver James Associates</td>\n",
       "      <td>90,000 a year</td>\n",
       "      <td>\\nDevelops and builds alignment within Product...</td>\n",
       "    </tr>\n",
       "    <tr>\n",
       "      <th>3</th>\n",
       "      <td>Data Scientist (Media)</td>\n",
       "      <td>New York, NY</td>\n",
       "      <td>Principle Solutions Group</td>\n",
       "      <td>140,000 a year</td>\n",
       "      <td>\\nData Scientist (Media). Requirements for Dat...</td>\n",
       "    </tr>\n",
       "    <tr>\n",
       "      <th>4</th>\n",
       "      <td>Data Scientist</td>\n",
       "      <td>New York, NY</td>\n",
       "      <td>TW Staffing Solutions</td>\n",
       "      <td>199,000 a year</td>\n",
       "      <td>\\nRun scripts and other machine learning tools...</td>\n",
       "    </tr>\n",
       "  </tbody>\n",
       "</table>\n",
       "</div>"
      ],
      "text/plain": [
       "                                       title      location  \\\n",
       "0                             Data Scientist  New York, NY   \n",
       "1  Senior Data Scientist/Predictive Modeller  New York, NY   \n",
       "2                             Data Scientist  New York, NY   \n",
       "3                     Data Scientist (Media)  New York, NY   \n",
       "4                             Data Scientist  New York, NY   \n",
       "\n",
       "                     company                     salary  \\\n",
       "0     Scienaptic Systems Inc             100,000 a year   \n",
       "1    Oliver James Associates  160,000 - $200,000 a year   \n",
       "2    Oliver James Associates              90,000 a year   \n",
       "3  Principle Solutions Group             140,000 a year   \n",
       "4      TW Staffing Solutions             199,000 a year   \n",
       "\n",
       "                                                text  \n",
       "0  \\nAs our representative in front of client, yo...  \n",
       "1  \\nCreate project milestone plans to ensure pro...  \n",
       "2  \\nDevelops and builds alignment within Product...  \n",
       "3  \\nData Scientist (Media). Requirements for Dat...  \n",
       "4  \\nRun scripts and other machine learning tools...  "
      ]
     },
     "execution_count": 14,
     "metadata": {},
     "output_type": "execute_result"
    }
   ],
   "source": [
    "firstscrape.head(5)"
   ]
  },
  {
   "cell_type": "code",
   "execution_count": 15,
   "metadata": {
    "collapsed": false
   },
   "outputs": [
    {
     "data": {
      "text/plain": [
       "140,000 a year               15\n",
       "120,000 a year                9\n",
       "180,000 a year                8\n",
       "5,400 - $6,500 a month        8\n",
       "3,077 - $4,113 a month        7\n",
       "160,000 a year                5\n",
       "6,250 - $10,833 a month       5\n",
       "200,000 a year                4\n",
       "170,000 a year                4\n",
       "75,000 - $125,000 a year      3\n",
       "120,000 - $140,000 a year     3\n",
       "130,000 a year                3\n",
       "2,377 - $3,062 a month        3\n",
       "70,286 - $88,213 a year       3\n",
       "145,000 a year                2\n",
       "100,000 a year                2\n",
       "80 an hour                    2\n",
       "150,000 a year                2\n",
       "2,739 - $3,635 a month        2\n",
       "60,000 - $69,999 a year       2\n",
       "150,000 - $175,000 a year     2\n",
       "21.80 an hour                 2\n",
       "160,000 - $190,000 a year     2\n",
       "3,000 a month                 2\n",
       "2,166 a month                 1\n",
       "49,000 - $54,000 a year       1\n",
       "2,250 a month                 1\n",
       "70,286 - $83,000 a year       1\n",
       "7,083 - $9,166 a month        1\n",
       "80,000 a year                 1\n",
       "                             ..\n",
       "40 an hour                    1\n",
       "22 - $28 an hour              1\n",
       "60 an hour                    1\n",
       "11 an hour                    1\n",
       "75,000 - $120,000 a year      1\n",
       "170,000 - $200,000 a year     1\n",
       "2,443 - $3,223 a month        1\n",
       "178,000 - $234,000 a year     1\n",
       "100,000 - $130,000 a year     1\n",
       "16 an hour                    1\n",
       "80,000 - $150,000 a year      1\n",
       "25 - $50 an hour              1\n",
       "90,000 - $100,000 a year      1\n",
       "4,818 - $7,106 a month        1\n",
       "110,000 a year                1\n",
       "2,834 - $3,166 a month        1\n",
       "40,000 - $50,000 a year       1\n",
       "55 a day                      1\n",
       "3,616 - $5,433 a month        1\n",
       "165,000 a year                1\n",
       "20 - $60 an hour              1\n",
       "886 a week                    1\n",
       "160,000 - $200,000 a year     1\n",
       "90,000 - $110,000 a year      1\n",
       "75,000 - $110,000 a year      1\n",
       "110,621 - $154,869 a year     1\n",
       "20 - $50 an hour              1\n",
       "88,305 - $146,570 a year      1\n",
       "50 an hour                    1\n",
       "40,480 a year                 1\n",
       "Name: salary, dtype: int64"
      ]
     },
     "execution_count": 15,
     "metadata": {},
     "output_type": "execute_result"
    }
   ],
   "source": [
    "firstscrape['salary'].value_counts()"
   ]
  },
  {
   "cell_type": "code",
   "execution_count": 16,
   "metadata": {
    "collapsed": false
   },
   "outputs": [],
   "source": [
    "firstscrape = firstscrape[firstscrape.salary.str.contains('hour') ==False]\n",
    "firstscrape = firstscrape[firstscrape.salary.str.contains('week') ==False]\n",
    "firstscrape = firstscrape[firstscrape.salary.str.contains('day') ==False]"
   ]
  },
  {
   "cell_type": "code",
   "execution_count": 17,
   "metadata": {
    "collapsed": false
   },
   "outputs": [],
   "source": [
    "firstscrape['month_year'] = [12 if 'month' in x.lower() else 1 for x in firstscrape['salary']]"
   ]
  },
  {
   "cell_type": "code",
   "execution_count": 18,
   "metadata": {
    "collapsed": false
   },
   "outputs": [],
   "source": [
    "firstscrape['salary'] = [x.replace(' a year', '') for x in firstscrape['salary']]\n",
    "firstscrape['salary'] = [x.replace(' a month', '') for x in firstscrape['salary']]\n",
    "firstscrape['salary'] = [x.replace('$', '') for x in firstscrape['salary']]\n",
    "firstscrape['salary'] = [x.replace(',', '') for x in firstscrape['salary']]\n",
    "firstscrape['salary'] = [x.split(' - ') for x in firstscrape['salary']]\n",
    "firstscrape['salary'] = [int(x[0]) if len(x) == 1 else (float(x[0]) + float(x[1])) / 2 for x in firstscrape['salary']]\n"
   ]
  },
  {
   "cell_type": "code",
   "execution_count": 19,
   "metadata": {
    "collapsed": false
   },
   "outputs": [],
   "source": [
    "firstscrape['converted_salary'] = firstscrape['salary'] * firstscrape['month_year']"
   ]
  },
  {
   "cell_type": "code",
   "execution_count": 20,
   "metadata": {
    "collapsed": false
   },
   "outputs": [
    {
     "data": {
      "text/html": [
       "<div>\n",
       "<table border=\"1\" class=\"dataframe\">\n",
       "  <thead>\n",
       "    <tr style=\"text-align: right;\">\n",
       "      <th></th>\n",
       "      <th>title</th>\n",
       "      <th>location</th>\n",
       "      <th>company</th>\n",
       "      <th>salary</th>\n",
       "      <th>text</th>\n",
       "      <th>month_year</th>\n",
       "      <th>converted_salary</th>\n",
       "    </tr>\n",
       "  </thead>\n",
       "  <tbody>\n",
       "    <tr>\n",
       "      <th>176</th>\n",
       "      <td>Lead Data Scientist</td>\n",
       "      <td>San Jose, CA 95113 (Downtown area)</td>\n",
       "      <td>Jobspring Partners</td>\n",
       "      <td>185000.0</td>\n",
       "      <td>\\nThis opportunity will be working on creating...</td>\n",
       "      <td>1</td>\n",
       "      <td>185000.0</td>\n",
       "    </tr>\n",
       "    <tr>\n",
       "      <th>177</th>\n",
       "      <td>Machine Learning Engineer - NLP/AI</td>\n",
       "      <td>San Jose, CA 95113 (Downtown area)</td>\n",
       "      <td>Jobspring Partners</td>\n",
       "      <td>200000.0</td>\n",
       "      <td>\\nExpertise in machine learning, data mining, ...</td>\n",
       "      <td>1</td>\n",
       "      <td>200000.0</td>\n",
       "    </tr>\n",
       "    <tr>\n",
       "      <th>178</th>\n",
       "      <td>Senior Data Scientist - Security Experience is...</td>\n",
       "      <td>Redwood City, CA</td>\n",
       "      <td>Elevate Recruiting Group</td>\n",
       "      <td>170000.0</td>\n",
       "      <td>\\nOr Masters degree in computer science, stati...</td>\n",
       "      <td>1</td>\n",
       "      <td>170000.0</td>\n",
       "    </tr>\n",
       "    <tr>\n",
       "      <th>179</th>\n",
       "      <td>Software Engineer - Big Data</td>\n",
       "      <td>Redwood City, CA 94063</td>\n",
       "      <td>Jobspring Partners</td>\n",
       "      <td>170000.0</td>\n",
       "      <td>\\nA fast growing company located in Redwood Ci...</td>\n",
       "      <td>1</td>\n",
       "      <td>170000.0</td>\n",
       "    </tr>\n",
       "    <tr>\n",
       "      <th>180</th>\n",
       "      <td>Machine Learning Engineer - Auto R&amp;D</td>\n",
       "      <td>San Jose, CA 95113 (Downtown area)</td>\n",
       "      <td>Jobspring Partners</td>\n",
       "      <td>185000.0</td>\n",
       "      <td>\\nYou will be a contributing member of Machine...</td>\n",
       "      <td>1</td>\n",
       "      <td>185000.0</td>\n",
       "    </tr>\n",
       "  </tbody>\n",
       "</table>\n",
       "</div>"
      ],
      "text/plain": [
       "                                                 title  \\\n",
       "176                                Lead Data Scientist   \n",
       "177                 Machine Learning Engineer - NLP/AI   \n",
       "178  Senior Data Scientist - Security Experience is...   \n",
       "179                       Software Engineer - Big Data   \n",
       "180               Machine Learning Engineer - Auto R&D   \n",
       "\n",
       "                               location                   company    salary  \\\n",
       "176  San Jose, CA 95113 (Downtown area)        Jobspring Partners  185000.0   \n",
       "177  San Jose, CA 95113 (Downtown area)        Jobspring Partners  200000.0   \n",
       "178                    Redwood City, CA  Elevate Recruiting Group  170000.0   \n",
       "179              Redwood City, CA 94063        Jobspring Partners  170000.0   \n",
       "180  San Jose, CA 95113 (Downtown area)        Jobspring Partners  185000.0   \n",
       "\n",
       "                                                  text  month_year  \\\n",
       "176  \\nThis opportunity will be working on creating...           1   \n",
       "177  \\nExpertise in machine learning, data mining, ...           1   \n",
       "178  \\nOr Masters degree in computer science, stati...           1   \n",
       "179  \\nA fast growing company located in Redwood Ci...           1   \n",
       "180  \\nYou will be a contributing member of Machine...           1   \n",
       "\n",
       "     converted_salary  \n",
       "176          185000.0  \n",
       "177          200000.0  \n",
       "178          170000.0  \n",
       "179          170000.0  \n",
       "180          185000.0  "
      ]
     },
     "execution_count": 20,
     "metadata": {},
     "output_type": "execute_result"
    }
   ],
   "source": [
    "firstscrape.tail(5)"
   ]
  },
  {
   "cell_type": "code",
   "execution_count": 21,
   "metadata": {
    "collapsed": false
   },
   "outputs": [
    {
     "data": {
      "image/png": "[encoded data removed]",
      "text/plain": [
       "<matplotlib.figure.Figure at 0x10e016b10>"
      ]
     },
     "metadata": {},
     "output_type": "display_data"
    }
   ],
   "source": [
    "import matplotlib.pyplot as plt \n",
    "%matplotlib inline\n",
    "firstscrape['converted_salary'].hist(bins = 8)\n",
    "plt.show()"
   ]
  },
  {
   "cell_type": "markdown",
   "metadata": {},
   "source": [
    "My salary data does not look normally distributed - I assume this is because I do not have many data points left after all cleaning."
   ]
  },
  {
   "cell_type": "markdown",
   "metadata": {},
   "source": [
    "Now lets look at the location - that needs a lot of cleaning as well."
   ]
  },
  {
   "cell_type": "code",
   "execution_count": 22,
   "metadata": {
    "collapsed": false
   },
   "outputs": [
    {
     "data": {
      "text/plain": [
       "New York, NY                                         30\n",
       "Austin, TX                                           24\n",
       "Seattle, WA                                          21\n",
       "Boston, MA                                            8\n",
       "San Francisco, CA                                     7\n",
       "San Francisco, CA 94105 (Financial District area)     5\n",
       "San Jose, CA 95113 (Downtown area)                    4\n",
       "Washington, DC                                        4\n",
       "New York, NY 10018 (Clinton area)                     3\n",
       "New York, NY 10167 (Midtown area)                     3\n",
       "Boston, MA 02116 (South End area)                     3\n",
       "Bellevue, WA                                          3\n",
       "Charlestown, MA                                       3\n",
       "Manhattan, NY                                         3\n",
       "New York, NY 10016 (Gramercy area)                    3\n",
       "Cambridge, MA                                         2\n",
       "Boston, MA 02114 (Back Bay-Beacon Hill area)          2\n",
       "Redmond, WA 98052                                     2\n",
       "Bedford, MA 01730                                     2\n",
       "Seattle, WA 98121 (Belltown area)                     2\n",
       "Redmond, WA                                           1\n",
       "San Francisco, CA 94102 (Downtown area)               1\n",
       "Palo Alto, CA                                         1\n",
       "Redwood City, CA                                      1\n",
       "Austin, TX 78746                                      1\n",
       "Redwood City, CA 94063                                1\n",
       "Oakland, CA                                           1\n",
       "Springfield, VA                                       1\n",
       "Arlington, VA 22230 (Arlington Forest area)           1\n",
       "Burlingame, CA 94010                                  1\n",
       "Campbell, CA                                          1\n",
       "East Bay, CA                                          1\n",
       "Sunnyvale, CA 94089                                   1\n",
       "McLean, VA 22102                                      1\n",
       "San Mateo, CA                                         1\n",
       "Boston, MA 02110 (Central area)                       1\n",
       "New York, NY 10017 (Midtown area)                     1\n",
       "Auburndale, MA 02466                                  1\n",
       "Mountain View, CA 94043                               1\n",
       "San Jose, CA                                          1\n",
       "Billerica, MA                                         1\n",
       "Fort George G Meade, MD                               1\n",
       "Seattle, WA 98101 (Downtown area)                     1\n",
       "Washington, DC 20012 (Takoma Park area)               1\n",
       "San Francisco, CA 94107 (South Of Market area)        1\n",
       "New York, NY 10174 (Murray Hill area)                 1\n",
       "Santa Clara, CA                                       1\n",
       "Name: location, dtype: int64"
      ]
     },
     "execution_count": 22,
     "metadata": {},
     "output_type": "execute_result"
    }
   ],
   "source": [
    "firstscrape['location'].value_counts()"
   ]
  },
  {
   "cell_type": "code",
   "execution_count": 23,
   "metadata": {
    "collapsed": false
   },
   "outputs": [],
   "source": [
    "firstscrape['location'] = [x.split(', ') for x in firstscrape['location']]\n",
    "firstscrape['city'] = [x[0] for x in firstscrape['location']]\n",
    "firstscrape['state'] = [x[1].split(' ')[0] for x in firstscrape['location']]"
   ]
  },
  {
   "cell_type": "code",
   "execution_count": 24,
   "metadata": {
    "collapsed": false
   },
   "outputs": [
    {
     "data": {
      "text/plain": [
       "NY    44\n",
       "CA    30\n",
       "WA    30\n",
       "TX    25\n",
       "MA    23\n",
       "DC     5\n",
       "VA     3\n",
       "MD     1\n",
       "Name: state, dtype: int64"
      ]
     },
     "execution_count": 24,
     "metadata": {},
     "output_type": "execute_result"
    }
   ],
   "source": [
    "firstscrape['state'].value_counts()"
   ]
  },
  {
   "cell_type": "code",
   "execution_count": 25,
   "metadata": {
    "collapsed": true
   },
   "outputs": [],
   "source": [
    "## Changing VA and MD to DC metro area\n",
    "firstscrape['state'] = [x.replace('VA', 'DC') for x in firstscrape['state']]\n",
    "firstscrape['state'] = [x.replace('MD', 'DC') for x in firstscrape['state']] "
   ]
  },
  {
   "cell_type": "code",
   "execution_count": 26,
   "metadata": {
    "collapsed": false
   },
   "outputs": [
    {
     "data": {
      "text/plain": [
       "NY    44\n",
       "CA    30\n",
       "WA    30\n",
       "TX    25\n",
       "MA    23\n",
       "DC     9\n",
       "Name: state, dtype: int64"
      ]
     },
     "execution_count": 26,
     "metadata": {},
     "output_type": "execute_result"
    }
   ],
   "source": [
    "firstscrape['state'].value_counts()"
   ]
  },
  {
   "cell_type": "code",
   "execution_count": 27,
   "metadata": {
    "collapsed": false
   },
   "outputs": [],
   "source": [
    "firstscrape.drop('location', inplace=True, axis=1)"
   ]
  },
  {
   "cell_type": "code",
   "execution_count": 28,
   "metadata": {
    "collapsed": false
   },
   "outputs": [
    {
     "data": {
      "text/html": [
       "<div>\n",
       "<table border=\"1\" class=\"dataframe\">\n",
       "  <thead>\n",
       "    <tr style=\"text-align: right;\">\n",
       "      <th></th>\n",
       "      <th>title</th>\n",
       "      <th>company</th>\n",
       "      <th>salary</th>\n",
       "      <th>text</th>\n",
       "      <th>month_year</th>\n",
       "      <th>converted_salary</th>\n",
       "      <th>city</th>\n",
       "      <th>state</th>\n",
       "    </tr>\n",
       "  </thead>\n",
       "  <tbody>\n",
       "    <tr>\n",
       "      <th>0</th>\n",
       "      <td>Data Scientist</td>\n",
       "      <td>Scienaptic Systems Inc</td>\n",
       "      <td>100000.0</td>\n",
       "      <td>\\nAs our representative in front of client, yo...</td>\n",
       "      <td>1</td>\n",
       "      <td>100000.0</td>\n",
       "      <td>New York</td>\n",
       "      <td>NY</td>\n",
       "    </tr>\n",
       "    <tr>\n",
       "      <th>1</th>\n",
       "      <td>Senior Data Scientist/Predictive Modeller</td>\n",
       "      <td>Oliver James Associates</td>\n",
       "      <td>180000.0</td>\n",
       "      <td>\\nCreate project milestone plans to ensure pro...</td>\n",
       "      <td>1</td>\n",
       "      <td>180000.0</td>\n",
       "      <td>New York</td>\n",
       "      <td>NY</td>\n",
       "    </tr>\n",
       "    <tr>\n",
       "      <th>2</th>\n",
       "      <td>Data Scientist</td>\n",
       "      <td>Oliver James Associates</td>\n",
       "      <td>90000.0</td>\n",
       "      <td>\\nDevelops and builds alignment within Product...</td>\n",
       "      <td>1</td>\n",
       "      <td>90000.0</td>\n",
       "      <td>New York</td>\n",
       "      <td>NY</td>\n",
       "    </tr>\n",
       "    <tr>\n",
       "      <th>3</th>\n",
       "      <td>Data Scientist (Media)</td>\n",
       "      <td>Principle Solutions Group</td>\n",
       "      <td>140000.0</td>\n",
       "      <td>\\nData Scientist (Media). Requirements for Dat...</td>\n",
       "      <td>1</td>\n",
       "      <td>140000.0</td>\n",
       "      <td>New York</td>\n",
       "      <td>NY</td>\n",
       "    </tr>\n",
       "    <tr>\n",
       "      <th>4</th>\n",
       "      <td>Data Scientist</td>\n",
       "      <td>TW Staffing Solutions</td>\n",
       "      <td>199000.0</td>\n",
       "      <td>\\nRun scripts and other machine learning tools...</td>\n",
       "      <td>1</td>\n",
       "      <td>199000.0</td>\n",
       "      <td>New York</td>\n",
       "      <td>NY</td>\n",
       "    </tr>\n",
       "  </tbody>\n",
       "</table>\n",
       "</div>"
      ],
      "text/plain": [
       "                                       title                    company  \\\n",
       "0                             Data Scientist     Scienaptic Systems Inc   \n",
       "1  Senior Data Scientist/Predictive Modeller    Oliver James Associates   \n",
       "2                             Data Scientist    Oliver James Associates   \n",
       "3                     Data Scientist (Media)  Principle Solutions Group   \n",
       "4                             Data Scientist      TW Staffing Solutions   \n",
       "\n",
       "     salary                                               text  month_year  \\\n",
       "0  100000.0  \\nAs our representative in front of client, yo...           1   \n",
       "1  180000.0  \\nCreate project milestone plans to ensure pro...           1   \n",
       "2   90000.0  \\nDevelops and builds alignment within Product...           1   \n",
       "3  140000.0  \\nData Scientist (Media). Requirements for Dat...           1   \n",
       "4  199000.0  \\nRun scripts and other machine learning tools...           1   \n",
       "\n",
       "   converted_salary      city state  \n",
       "0          100000.0  New York    NY  \n",
       "1          180000.0  New York    NY  \n",
       "2           90000.0  New York    NY  \n",
       "3          140000.0  New York    NY  \n",
       "4          199000.0  New York    NY  "
      ]
     },
     "execution_count": 28,
     "metadata": {},
     "output_type": "execute_result"
    }
   ],
   "source": [
    "firstscrape.head()"
   ]
  },
  {
   "cell_type": "code",
   "execution_count": 29,
   "metadata": {
    "collapsed": false
   },
   "outputs": [
    {
     "data": {
      "text/plain": [
       "New York               41\n",
       "Austin                 25\n",
       "Seattle                24\n",
       "Boston                 14\n",
       "San Francisco          14\n",
       "San Jose                5\n",
       "Washington              5\n",
       "Manhattan               3\n",
       "Charlestown             3\n",
       "Bellevue                3\n",
       "Redmond                 3\n",
       "Redwood City            2\n",
       "Bedford                 2\n",
       "Cambridge               2\n",
       "Springfield             1\n",
       "Oakland                 1\n",
       "Billerica               1\n",
       "Auburndale              1\n",
       "San Mateo               1\n",
       "Palo Alto               1\n",
       "Sunnyvale               1\n",
       "Burlingame              1\n",
       "Campbell                1\n",
       "East Bay                1\n",
       "Arlington               1\n",
       "Santa Clara             1\n",
       "Mountain View           1\n",
       "McLean                  1\n",
       "Fort George G Meade     1\n",
       "Name: city, dtype: int64"
      ]
     },
     "execution_count": 29,
     "metadata": {},
     "output_type": "execute_result"
    }
   ],
   "source": [
    "firstscrape['city'].value_counts()"
   ]
  },
  {
   "cell_type": "markdown",
   "metadata": {},
   "source": [
    "There are a lot of smaller towns in the list and I'm adding them to their closest large city."
   ]
  },
  {
   "cell_type": "code",
   "execution_count": 32,
   "metadata": {
    "collapsed": true
   },
   "outputs": [],
   "source": [
    "firstscrape['city'] = [x.replace('Manhattan', 'New York') for x in firstscrape['city']]\n",
    "firstscrape['city'] = [x.replace('San Francisco Bay Area', 'San Francisco') for x in firstscrape['city']] \n",
    "firstscrape['city'] = [x.replace('Cambridge', 'Boston') for x in firstscrape['city']] \n",
    "firstscrape['city'] = [x.replace('Oakland', 'San Francisco') for x in firstscrape['city']] \n",
    "firstscrape['city'] = [x.replace('Billerica', 'Boston') for x in firstscrape['city']] \n",
    "firstscrape['city'] = [x.replace('Burlingame', 'San Mateo') for x in firstscrape['city']] \n",
    "firstscrape['city'] = [x.replace('Campbell', 'Santa Clara') for x in firstscrape['city']] \n",
    "firstscrape['city'] = [x.replace('East Bay', 'San Francisco') for x in firstscrape['city']] \n",
    "firstscrape['city'] = [x.replace('McLean', 'Washington') for x in firstscrape['city']] \n",
    "firstscrape['city'] = [x.replace('Fort George G Meade', 'Washington') for x in firstscrape['city']] \n",
    "firstscrape['city'] = [x.replace('Auburndale', 'Boston') for x in firstscrape['city']] "
   ]
  },
  {
   "cell_type": "code",
   "execution_count": 33,
   "metadata": {
    "collapsed": false
   },
   "outputs": [
    {
     "data": {
      "text/plain": [
       "New York         44\n",
       "Austin           25\n",
       "Seattle          24\n",
       "Boston           18\n",
       "San Francisco    16\n",
       "Washington        7\n",
       "San Jose          5\n",
       "Charlestown       3\n",
       "Redmond           3\n",
       "Bellevue          3\n",
       "Redwood City      2\n",
       "Santa Clara       2\n",
       "Bedford           2\n",
       "San Mateo         2\n",
       "Springfield       1\n",
       "Sunnyvale         1\n",
       "Palo Alto         1\n",
       "Mountain View     1\n",
       "Arlington         1\n",
       "Name: city, dtype: int64"
      ]
     },
     "execution_count": 33,
     "metadata": {},
     "output_type": "execute_result"
    }
   ],
   "source": [
    "firstscrape['city'].value_counts()"
   ]
  },
  {
   "cell_type": "markdown",
   "metadata": {},
   "source": [
    "Lets look at the body of the post. There are a lot of resources on internet that talk about most valuable skills in Data Science, I want to get a list of these skills and see if my postings contain these terms."
   ]
  },
  {
   "cell_type": "markdown",
   "metadata": {},
   "source": [
    "Using this report https://adtmag.com/articles/2016/01/08/data-science-skills.aspx.\n",
    "But 'statistics' isn't on their list! So I'm going to use two more reports and get a list of technical and other skills. http://dataconomy.com/2014/12/top-10-data-science-skills-and-how-to-learn-them/ and https://www.quora.com/What-are-the-most-valuable-skills-to-learn-for-a-data-scientist-now"
   ]
  },
  {
   "cell_type": "code",
   "execution_count": 34,
   "metadata": {
    "collapsed": true
   },
   "outputs": [],
   "source": [
    "features=['sql', 'hadoop', 'python', 'java', 'r', 'hive', 'nosql', \\\n",
    "         'sas', 'c', 'oracle', 'spss', 'matlab', 'perl', 'mysql',\\\n",
    "         'postgresql', 'ruby', 'html', 'stata', 'research', 'statistics', \\\n",
    "         'optimization', 'machine learning', 'predictive modeling',\\\n",
    "         'curiosity', 'domain knowledge', 'storytelling']\n",
    "\n",
    "\n",
    "\n",
    "for i in features:\n",
    "    lil_column = []\n",
    "    for post in firstscrape['text']:\n",
    "        if i in post.lower():\n",
    "            lil_column.append(1)\n",
    "        else:\n",
    "            lil_column.append(0)\n",
    "    firstscrape[i]=lil_column\n",
    "                \n",
    "\n",
    "                "
   ]
  },
  {
   "cell_type": "code",
   "execution_count": 35,
   "metadata": {
    "collapsed": false
   },
   "outputs": [
    {
     "data": {
      "text/html": [
       "<div>\n",
       "<table border=\"1\" class=\"dataframe\">\n",
       "  <thead>\n",
       "    <tr style=\"text-align: right;\">\n",
       "      <th></th>\n",
       "      <th>title</th>\n",
       "      <th>company</th>\n",
       "      <th>salary</th>\n",
       "      <th>text</th>\n",
       "      <th>month_year</th>\n",
       "      <th>converted_salary</th>\n",
       "      <th>city</th>\n",
       "      <th>state</th>\n",
       "      <th>sql</th>\n",
       "      <th>hadoop</th>\n",
       "      <th>...</th>\n",
       "      <th>html</th>\n",
       "      <th>stata</th>\n",
       "      <th>research</th>\n",
       "      <th>statistics</th>\n",
       "      <th>optimization</th>\n",
       "      <th>machine learning</th>\n",
       "      <th>predictive modeling</th>\n",
       "      <th>curiosity</th>\n",
       "      <th>domain knowledge</th>\n",
       "      <th>storytelling</th>\n",
       "    </tr>\n",
       "  </thead>\n",
       "  <tbody>\n",
       "    <tr>\n",
       "      <th>0</th>\n",
       "      <td>Data Scientist</td>\n",
       "      <td>Scienaptic Systems Inc</td>\n",
       "      <td>100000.0</td>\n",
       "      <td>\\nAs our representative in front of client, yo...</td>\n",
       "      <td>1</td>\n",
       "      <td>100000.0</td>\n",
       "      <td>New York</td>\n",
       "      <td>NY</td>\n",
       "      <td>0</td>\n",
       "      <td>0</td>\n",
       "      <td>...</td>\n",
       "      <td>0</td>\n",
       "      <td>0</td>\n",
       "      <td>0</td>\n",
       "      <td>0</td>\n",
       "      <td>0</td>\n",
       "      <td>0</td>\n",
       "      <td>0</td>\n",
       "      <td>0</td>\n",
       "      <td>0</td>\n",
       "      <td>0</td>\n",
       "    </tr>\n",
       "    <tr>\n",
       "      <th>1</th>\n",
       "      <td>Senior Data Scientist/Predictive Modeller</td>\n",
       "      <td>Oliver James Associates</td>\n",
       "      <td>180000.0</td>\n",
       "      <td>\\nCreate project milestone plans to ensure pro...</td>\n",
       "      <td>1</td>\n",
       "      <td>180000.0</td>\n",
       "      <td>New York</td>\n",
       "      <td>NY</td>\n",
       "      <td>0</td>\n",
       "      <td>0</td>\n",
       "      <td>...</td>\n",
       "      <td>0</td>\n",
       "      <td>0</td>\n",
       "      <td>0</td>\n",
       "      <td>0</td>\n",
       "      <td>0</td>\n",
       "      <td>0</td>\n",
       "      <td>0</td>\n",
       "      <td>0</td>\n",
       "      <td>0</td>\n",
       "      <td>0</td>\n",
       "    </tr>\n",
       "    <tr>\n",
       "      <th>2</th>\n",
       "      <td>Data Scientist</td>\n",
       "      <td>Oliver James Associates</td>\n",
       "      <td>90000.0</td>\n",
       "      <td>\\nDevelops and builds alignment within Product...</td>\n",
       "      <td>1</td>\n",
       "      <td>90000.0</td>\n",
       "      <td>New York</td>\n",
       "      <td>NY</td>\n",
       "      <td>0</td>\n",
       "      <td>0</td>\n",
       "      <td>...</td>\n",
       "      <td>0</td>\n",
       "      <td>0</td>\n",
       "      <td>0</td>\n",
       "      <td>0</td>\n",
       "      <td>0</td>\n",
       "      <td>1</td>\n",
       "      <td>1</td>\n",
       "      <td>0</td>\n",
       "      <td>0</td>\n",
       "      <td>0</td>\n",
       "    </tr>\n",
       "    <tr>\n",
       "      <th>3</th>\n",
       "      <td>Data Scientist (Media)</td>\n",
       "      <td>Principle Solutions Group</td>\n",
       "      <td>140000.0</td>\n",
       "      <td>\\nData Scientist (Media). Requirements for Dat...</td>\n",
       "      <td>1</td>\n",
       "      <td>140000.0</td>\n",
       "      <td>New York</td>\n",
       "      <td>NY</td>\n",
       "      <td>0</td>\n",
       "      <td>0</td>\n",
       "      <td>...</td>\n",
       "      <td>0</td>\n",
       "      <td>0</td>\n",
       "      <td>0</td>\n",
       "      <td>0</td>\n",
       "      <td>0</td>\n",
       "      <td>0</td>\n",
       "      <td>0</td>\n",
       "      <td>0</td>\n",
       "      <td>0</td>\n",
       "      <td>0</td>\n",
       "    </tr>\n",
       "    <tr>\n",
       "      <th>4</th>\n",
       "      <td>Data Scientist</td>\n",
       "      <td>TW Staffing Solutions</td>\n",
       "      <td>199000.0</td>\n",
       "      <td>\\nRun scripts and other machine learning tools...</td>\n",
       "      <td>1</td>\n",
       "      <td>199000.0</td>\n",
       "      <td>New York</td>\n",
       "      <td>NY</td>\n",
       "      <td>0</td>\n",
       "      <td>0</td>\n",
       "      <td>...</td>\n",
       "      <td>0</td>\n",
       "      <td>0</td>\n",
       "      <td>0</td>\n",
       "      <td>0</td>\n",
       "      <td>0</td>\n",
       "      <td>1</td>\n",
       "      <td>0</td>\n",
       "      <td>0</td>\n",
       "      <td>0</td>\n",
       "      <td>0</td>\n",
       "    </tr>\n",
       "  </tbody>\n",
       "</table>\n",
       "<p>5 rows × 34 columns</p>\n",
       "</div>"
      ],
      "text/plain": [
       "                                       title                    company  \\\n",
       "0                             Data Scientist     Scienaptic Systems Inc   \n",
       "1  Senior Data Scientist/Predictive Modeller    Oliver James Associates   \n",
       "2                             Data Scientist    Oliver James Associates   \n",
       "3                     Data Scientist (Media)  Principle Solutions Group   \n",
       "4                             Data Scientist      TW Staffing Solutions   \n",
       "\n",
       "     salary                                               text  month_year  \\\n",
       "0  100000.0  \\nAs our representative in front of client, yo...           1   \n",
       "1  180000.0  \\nCreate project milestone plans to ensure pro...           1   \n",
       "2   90000.0  \\nDevelops and builds alignment within Product...           1   \n",
       "3  140000.0  \\nData Scientist (Media). Requirements for Dat...           1   \n",
       "4  199000.0  \\nRun scripts and other machine learning tools...           1   \n",
       "\n",
       "   converted_salary      city state  sql  hadoop      ...       html  stata  \\\n",
       "0          100000.0  New York    NY    0       0      ...          0      0   \n",
       "1          180000.0  New York    NY    0       0      ...          0      0   \n",
       "2           90000.0  New York    NY    0       0      ...          0      0   \n",
       "3          140000.0  New York    NY    0       0      ...          0      0   \n",
       "4          199000.0  New York    NY    0       0      ...          0      0   \n",
       "\n",
       "   research  statistics  optimization  machine learning  predictive modeling  \\\n",
       "0         0           0             0                 0                    0   \n",
       "1         0           0             0                 0                    0   \n",
       "2         0           0             0                 1                    1   \n",
       "3         0           0             0                 0                    0   \n",
       "4         0           0             0                 1                    0   \n",
       "\n",
       "   curiosity  domain knowledge  storytelling  \n",
       "0          0                 0             0  \n",
       "1          0                 0             0  \n",
       "2          0                 0             0  \n",
       "3          0                 0             0  \n",
       "4          0                 0             0  \n",
       "\n",
       "[5 rows x 34 columns]"
      ]
     },
     "execution_count": 35,
     "metadata": {},
     "output_type": "execute_result"
    }
   ],
   "source": [
    "firstscrape.head(5)"
   ]
  },
  {
   "cell_type": "markdown",
   "metadata": {},
   "source": [
    "Lets add one more feature - I'm checking whether the word \"senior\" in the title plays any role."
   ]
  },
  {
   "cell_type": "code",
   "execution_count": 36,
   "metadata": {
    "collapsed": true
   },
   "outputs": [],
   "source": [
    "def check_senior(x):\n",
    "    if 'senior' in x.lower():\n",
    "        return 1\n",
    "    else:\n",
    "        return 0"
   ]
  },
  {
   "cell_type": "code",
   "execution_count": 37,
   "metadata": {
    "collapsed": true
   },
   "outputs": [],
   "source": [
    "firstscrape['senior'] = firstscrape['title'].map(check_senior)"
   ]
  },
  {
   "cell_type": "code",
   "execution_count": 38,
   "metadata": {
    "collapsed": false
   },
   "outputs": [
    {
     "data": {
      "text/plain": [
       "Index([u'title', u'company', u'salary', u'text', u'month_year',\n",
       "       u'converted_salary', u'city', u'state', u'sql', u'hadoop', u'python',\n",
       "       u'java', u'r', u'hive', u'nosql', u'sas', u'c', u'oracle', u'spss',\n",
       "       u'matlab', u'perl', u'mysql', u'postgresql', u'ruby', u'html', u'stata',\n",
       "       u'research', u'statistics', u'optimization', u'machine learning',\n",
       "       u'predictive modeling', u'curiosity', u'domain knowledge',\n",
       "       u'storytelling', u'senior'],\n",
       "      dtype='object')"
      ]
     },
     "execution_count": 38,
     "metadata": {},
     "output_type": "execute_result"
    }
   ],
   "source": [
    "firstscrape.columns"
   ]
  },
  {
   "cell_type": "markdown",
   "metadata": {},
   "source": [
    "Right now my salary is a numeric value - I'm going to find the mean and assign '0' to all salaries that are lower than the mean,  and '1' to salaries, that are higher than the mean."
   ]
  },
  {
   "cell_type": "code",
   "execution_count": 39,
   "metadata": {
    "collapsed": false
   },
   "outputs": [
    {
     "data": {
      "text/plain": [
       "93829.76086956522"
      ]
     },
     "execution_count": 39,
     "metadata": {},
     "output_type": "execute_result"
    }
   ],
   "source": [
    "mean = firstscrape['salary'].mean()\n",
    "mean"
   ]
  },
  {
   "cell_type": "code",
   "execution_count": 40,
   "metadata": {
    "collapsed": true
   },
   "outputs": [],
   "source": [
    "firstscrape['target'] = [1 if x >mean else 0 for x in firstscrape['salary']]"
   ]
  },
  {
   "cell_type": "code",
   "execution_count": 41,
   "metadata": {
    "collapsed": false
   },
   "outputs": [
    {
     "data": {
      "text/plain": [
       "Index([u'title', u'company', u'salary', u'text', u'month_year',\n",
       "       u'converted_salary', u'city', u'state', u'sql', u'hadoop', u'python',\n",
       "       u'java', u'r', u'hive', u'nosql', u'sas', u'c', u'oracle', u'spss',\n",
       "       u'matlab', u'perl', u'mysql', u'postgresql', u'ruby', u'html', u'stata',\n",
       "       u'research', u'statistics', u'optimization', u'machine learning',\n",
       "       u'predictive modeling', u'curiosity', u'domain knowledge',\n",
       "       u'storytelling', u'senior', u'target'],\n",
       "      dtype='object')"
      ]
     },
     "execution_count": 41,
     "metadata": {},
     "output_type": "execute_result"
    }
   ],
   "source": [
    "firstscrape.columns"
   ]
  },
  {
   "cell_type": "code",
   "execution_count": 42,
   "metadata": {
    "collapsed": false
   },
   "outputs": [],
   "source": [
    "new_df = pd.DataFrame.copy(firstscrape)"
   ]
  },
  {
   "cell_type": "markdown",
   "metadata": {},
   "source": [
    "Creating dummies for city and state and dropping everything else. "
   ]
  },
  {
   "cell_type": "code",
   "execution_count": 43,
   "metadata": {
    "collapsed": false
   },
   "outputs": [],
   "source": [
    "state = pd.get_dummies(new_df['state'], drop_first=True)\n",
    "new_df = pd.concat([new_df, state], axis=1)\n",
    "new_df.drop('state', inplace=True, axis=1)"
   ]
  },
  {
   "cell_type": "code",
   "execution_count": 44,
   "metadata": {
    "collapsed": false
   },
   "outputs": [],
   "source": [
    "city = pd.get_dummies(new_df['city'], drop_first=True)\n",
    "new_df = pd.concat([new_df, city], axis=1)\n",
    "new_df.drop('city', inplace=True, axis=1)"
   ]
  },
  {
   "cell_type": "code",
   "execution_count": 45,
   "metadata": {
    "collapsed": false
   },
   "outputs": [],
   "source": [
    "new_df.drop('title', inplace=True, axis=1)\n",
    "new_df.drop('company', inplace=True, axis=1)\n",
    "new_df.drop('salary', inplace=True, axis=1)\n",
    "new_df.drop('text', inplace=True, axis=1)\n",
    "new_df.drop('month_year', inplace=True, axis=1)\n",
    "new_df.drop('converted_salary', inplace=True, axis=1)"
   ]
  },
  {
   "cell_type": "code",
   "execution_count": 46,
   "metadata": {
    "collapsed": false
   },
   "outputs": [
    {
     "data": {
      "text/html": [
       "<div>\n",
       "<table border=\"1\" class=\"dataframe\">\n",
       "  <thead>\n",
       "    <tr style=\"text-align: right;\">\n",
       "      <th></th>\n",
       "      <th>sql</th>\n",
       "      <th>hadoop</th>\n",
       "      <th>python</th>\n",
       "      <th>java</th>\n",
       "      <th>r</th>\n",
       "      <th>hive</th>\n",
       "      <th>nosql</th>\n",
       "      <th>sas</th>\n",
       "      <th>c</th>\n",
       "      <th>oracle</th>\n",
       "      <th>...</th>\n",
       "      <th>Redmond</th>\n",
       "      <th>Redwood City</th>\n",
       "      <th>San Francisco</th>\n",
       "      <th>San Jose</th>\n",
       "      <th>San Mateo</th>\n",
       "      <th>Santa Clara</th>\n",
       "      <th>Seattle</th>\n",
       "      <th>Springfield</th>\n",
       "      <th>Sunnyvale</th>\n",
       "      <th>Washington</th>\n",
       "    </tr>\n",
       "  </thead>\n",
       "  <tbody>\n",
       "    <tr>\n",
       "      <th>0</th>\n",
       "      <td>0</td>\n",
       "      <td>0</td>\n",
       "      <td>0</td>\n",
       "      <td>0</td>\n",
       "      <td>1</td>\n",
       "      <td>0</td>\n",
       "      <td>0</td>\n",
       "      <td>0</td>\n",
       "      <td>1</td>\n",
       "      <td>0</td>\n",
       "      <td>...</td>\n",
       "      <td>0</td>\n",
       "      <td>0</td>\n",
       "      <td>0</td>\n",
       "      <td>0</td>\n",
       "      <td>0</td>\n",
       "      <td>0</td>\n",
       "      <td>0</td>\n",
       "      <td>0</td>\n",
       "      <td>0</td>\n",
       "      <td>0</td>\n",
       "    </tr>\n",
       "    <tr>\n",
       "      <th>1</th>\n",
       "      <td>0</td>\n",
       "      <td>0</td>\n",
       "      <td>0</td>\n",
       "      <td>0</td>\n",
       "      <td>1</td>\n",
       "      <td>0</td>\n",
       "      <td>0</td>\n",
       "      <td>0</td>\n",
       "      <td>1</td>\n",
       "      <td>0</td>\n",
       "      <td>...</td>\n",
       "      <td>0</td>\n",
       "      <td>0</td>\n",
       "      <td>0</td>\n",
       "      <td>0</td>\n",
       "      <td>0</td>\n",
       "      <td>0</td>\n",
       "      <td>0</td>\n",
       "      <td>0</td>\n",
       "      <td>0</td>\n",
       "      <td>0</td>\n",
       "    </tr>\n",
       "    <tr>\n",
       "      <th>2</th>\n",
       "      <td>0</td>\n",
       "      <td>0</td>\n",
       "      <td>0</td>\n",
       "      <td>0</td>\n",
       "      <td>1</td>\n",
       "      <td>0</td>\n",
       "      <td>0</td>\n",
       "      <td>0</td>\n",
       "      <td>1</td>\n",
       "      <td>0</td>\n",
       "      <td>...</td>\n",
       "      <td>0</td>\n",
       "      <td>0</td>\n",
       "      <td>0</td>\n",
       "      <td>0</td>\n",
       "      <td>0</td>\n",
       "      <td>0</td>\n",
       "      <td>0</td>\n",
       "      <td>0</td>\n",
       "      <td>0</td>\n",
       "      <td>0</td>\n",
       "    </tr>\n",
       "    <tr>\n",
       "      <th>3</th>\n",
       "      <td>0</td>\n",
       "      <td>0</td>\n",
       "      <td>0</td>\n",
       "      <td>0</td>\n",
       "      <td>1</td>\n",
       "      <td>0</td>\n",
       "      <td>0</td>\n",
       "      <td>0</td>\n",
       "      <td>1</td>\n",
       "      <td>0</td>\n",
       "      <td>...</td>\n",
       "      <td>0</td>\n",
       "      <td>0</td>\n",
       "      <td>0</td>\n",
       "      <td>0</td>\n",
       "      <td>0</td>\n",
       "      <td>0</td>\n",
       "      <td>0</td>\n",
       "      <td>0</td>\n",
       "      <td>0</td>\n",
       "      <td>0</td>\n",
       "    </tr>\n",
       "    <tr>\n",
       "      <th>4</th>\n",
       "      <td>0</td>\n",
       "      <td>0</td>\n",
       "      <td>0</td>\n",
       "      <td>0</td>\n",
       "      <td>1</td>\n",
       "      <td>0</td>\n",
       "      <td>0</td>\n",
       "      <td>0</td>\n",
       "      <td>1</td>\n",
       "      <td>0</td>\n",
       "      <td>...</td>\n",
       "      <td>0</td>\n",
       "      <td>0</td>\n",
       "      <td>0</td>\n",
       "      <td>0</td>\n",
       "      <td>0</td>\n",
       "      <td>0</td>\n",
       "      <td>0</td>\n",
       "      <td>0</td>\n",
       "      <td>0</td>\n",
       "      <td>0</td>\n",
       "    </tr>\n",
       "  </tbody>\n",
       "</table>\n",
       "<p>5 rows × 51 columns</p>\n",
       "</div>"
      ],
      "text/plain": [
       "   sql  hadoop  python  java  r  hive  nosql  sas  c  oracle     ...      \\\n",
       "0    0       0       0     0  1     0      0    0  1       0     ...       \n",
       "1    0       0       0     0  1     0      0    0  1       0     ...       \n",
       "2    0       0       0     0  1     0      0    0  1       0     ...       \n",
       "3    0       0       0     0  1     0      0    0  1       0     ...       \n",
       "4    0       0       0     0  1     0      0    0  1       0     ...       \n",
       "\n",
       "   Redmond  Redwood City  San Francisco  San Jose  San Mateo  Santa Clara  \\\n",
       "0        0             0              0         0          0            0   \n",
       "1        0             0              0         0          0            0   \n",
       "2        0             0              0         0          0            0   \n",
       "3        0             0              0         0          0            0   \n",
       "4        0             0              0         0          0            0   \n",
       "\n",
       "   Seattle  Springfield  Sunnyvale  Washington  \n",
       "0        0            0          0           0  \n",
       "1        0            0          0           0  \n",
       "2        0            0          0           0  \n",
       "3        0            0          0           0  \n",
       "4        0            0          0           0  \n",
       "\n",
       "[5 rows x 51 columns]"
      ]
     },
     "execution_count": 46,
     "metadata": {},
     "output_type": "execute_result"
    }
   ],
   "source": [
    "new_df.head()\n"
   ]
  },
  {
   "cell_type": "code",
   "execution_count": 47,
   "metadata": {
    "collapsed": true
   },
   "outputs": [],
   "source": [
    "X = new_df[[i for i in list(new_df.columns) if i != 'target']]"
   ]
  },
  {
   "cell_type": "code",
   "execution_count": 48,
   "metadata": {
    "collapsed": true
   },
   "outputs": [],
   "source": [
    "y = new_df['target']"
   ]
  },
  {
   "cell_type": "code",
   "execution_count": 49,
   "metadata": {
    "collapsed": false
   },
   "outputs": [
    {
     "name": "stderr",
     "output_type": "stream",
     "text": [
      "/Users/tetyanadzhula/anaconda/lib/python2.7/site-packages/sklearn/cross_validation.py:44: DeprecationWarning: This module was deprecated in version 0.18 in favor of the model_selection module into which all the refactored classes and functions are moved. Also note that the interface of the new CV iterators are different from that of this module. This module will be removed in 0.20.\n",
      "  \"This module will be removed in 0.20.\", DeprecationWarning)\n",
      "/Users/tetyanadzhula/anaconda/lib/python2.7/site-packages/sklearn/grid_search.py:43: DeprecationWarning: This module was deprecated in version 0.18 in favor of the model_selection module into which all the refactored classes and functions are moved. This module will be removed in 0.20.\n",
      "  DeprecationWarning)\n"
     ]
    }
   ],
   "source": [
    "import patsy\n",
    "\n",
    "from sklearn.metrics import classification_report, confusion_matrix, accuracy_score\n",
    "from sklearn.model_selection import train_test_split, cross_val_score\n",
    "from sklearn.linear_model import LogisticRegression, LogisticRegressionCV\n",
    "from sklearn.grid_search import GridSearchCV"
   ]
  },
  {
   "cell_type": "code",
   "execution_count": 50,
   "metadata": {
    "collapsed": true
   },
   "outputs": [],
   "source": [
    "X_train, X_test, y_train, y_test = train_test_split(X, y, test_size=0.33, random_state=77)"
   ]
  },
  {
   "cell_type": "markdown",
   "metadata": {},
   "source": [
    "First, I am fitting simple Logistic Regression"
   ]
  },
  {
   "cell_type": "code",
   "execution_count": 51,
   "metadata": {
    "collapsed": true
   },
   "outputs": [],
   "source": [
    "# logistic regression\n",
    "lr = LogisticRegression()"
   ]
  },
  {
   "cell_type": "code",
   "execution_count": 52,
   "metadata": {
    "collapsed": true
   },
   "outputs": [],
   "source": [
    "lr_model = lr.fit(X_train, y_train)"
   ]
  },
  {
   "cell_type": "code",
   "execution_count": 53,
   "metadata": {
    "collapsed": true
   },
   "outputs": [],
   "source": [
    "lr_ypred = lr_model.predict(X_test)"
   ]
  },
  {
   "cell_type": "code",
   "execution_count": 54,
   "metadata": {
    "collapsed": false
   },
   "outputs": [
    {
     "data": {
      "text/html": [
       "<div>\n",
       "<table border=\"1\" class=\"dataframe\">\n",
       "  <thead>\n",
       "    <tr style=\"text-align: right;\">\n",
       "      <th></th>\n",
       "      <th>0</th>\n",
       "      <th>1</th>\n",
       "    </tr>\n",
       "  </thead>\n",
       "  <tbody>\n",
       "    <tr>\n",
       "      <th>0</th>\n",
       "      <td>11</td>\n",
       "      <td>8</td>\n",
       "    </tr>\n",
       "    <tr>\n",
       "      <th>1</th>\n",
       "      <td>7</td>\n",
       "      <td>28</td>\n",
       "    </tr>\n",
       "  </tbody>\n",
       "</table>\n",
       "</div>"
      ],
      "text/plain": [
       "    0   1\n",
       "0  11   8\n",
       "1   7  28"
      ]
     },
     "execution_count": 54,
     "metadata": {},
     "output_type": "execute_result"
    }
   ],
   "source": [
    "# actual = index; predicted = columns\n",
    "lr_cm = confusion_matrix(y_test, lr_ypred, labels=lr.classes_)\n",
    "lr_cm = pd.DataFrame(lr_cm, columns=lr.classes_, index=lr.classes_)\n",
    "lr_cm"
   ]
  },
  {
   "cell_type": "code",
   "execution_count": 55,
   "metadata": {
    "collapsed": false
   },
   "outputs": [
    {
     "name": "stdout",
     "output_type": "stream",
     "text": [
      "             precision    recall  f1-score   support\n",
      "\n",
      "          0       0.61      0.58      0.59        19\n",
      "          1       0.78      0.80      0.79        35\n",
      "\n",
      "avg / total       0.72      0.72      0.72        54\n",
      "\n"
     ]
    }
   ],
   "source": [
    "print classification_report(y_test, lr_ypred, labels=lr.classes_)"
   ]
  },
  {
   "cell_type": "markdown",
   "metadata": {},
   "source": [
    "#### 61% of our '0' predictions (salary is lower than the average) were correct. That's our precision score. More that half of the time we are able to correctly say that the salary will be lower than the average.\n",
    "\n",
    "#### 78% of our '1' predictions (salary is higher than the average) were correct. Looks like we are better at predicting higher salaries.\n"
   ]
  },
  {
   "cell_type": "markdown",
   "metadata": {},
   "source": [
    "#### Out of 19 cases when salary was lower than the average - 11 times we correctly predicted the salary would be lower than the average. In our classification report we can see that that's 58% (recall score).\n",
    "\n"
   ]
  },
  {
   "cell_type": "markdown",
   "metadata": {},
   "source": [
    "#### And out of 35 cases where salary was higher than the average - we caught 28, that's  80% recall score.\n",
    "    "
   ]
  },
  {
   "cell_type": "markdown",
   "metadata": {},
   "source": [
    "#### Overall we correctly classified 39 cases (out of 54 cases)"
   ]
  },
  {
   "cell_type": "markdown",
   "metadata": {},
   "source": [
    "#### We now know that we have quite good chances (72%) predicting whether the salary for the given position will be higher or lower than the average for Data Science field.\n"
   ]
  },
  {
   "cell_type": "markdown",
   "metadata": {},
   "source": [
    "#### Checking CV score"
   ]
  },
  {
   "cell_type": "code",
   "execution_count": 56,
   "metadata": {
    "collapsed": false
   },
   "outputs": [
    {
     "data": {
      "text/plain": [
       "array([ 0.68518519,  0.87037037,  0.79245283])"
      ]
     },
     "execution_count": 56,
     "metadata": {},
     "output_type": "execute_result"
    }
   ],
   "source": [
    "cvs1 = cross_val_score(lr, X, y, cv=3)\n",
    "cvs1"
   ]
  },
  {
   "cell_type": "markdown",
   "metadata": {},
   "source": [
    "#### This is average accuracy score for our model:"
   ]
  },
  {
   "cell_type": "code",
   "execution_count": 57,
   "metadata": {
    "collapsed": false
   },
   "outputs": [
    {
     "data": {
      "text/plain": [
       "0.78266946191474496"
      ]
     },
     "execution_count": 57,
     "metadata": {},
     "output_type": "execute_result"
    }
   ],
   "source": [
    "cvs1.mean()"
   ]
  },
  {
   "cell_type": "markdown",
   "metadata": {
    "collapsed": true
   },
   "source": [
    "#### Lets run more models to see if we can do even better"
   ]
  },
  {
   "cell_type": "markdown",
   "metadata": {},
   "source": [
    "#### We will use GridSearchCV - so that we can try several penalties and hyperparameters at the same time, without fitting our models separately. At the end we will be able to see which model and penalty perform best."
   ]
  },
  {
   "cell_type": "markdown",
   "metadata": {
    "collapsed": true
   },
   "source": [
    "\n",
    "#### I'm fitting model with 15 folds and both lasso and ridge regularization and using different C values to test a grid of distinct parameters.\n",
    "#### (C is inverse of regularization strength)\n"
   ]
  },
  {
   "cell_type": "code",
   "execution_count": 58,
   "metadata": {
    "collapsed": false
   },
   "outputs": [
    {
     "data": {
      "text/plain": [
       "GridSearchCV(cv=15, error_score='raise',\n",
       "       estimator=LogisticRegression(C=1.0, class_weight=None, dual=False, fit_intercept=True,\n",
       "          intercept_scaling=1, max_iter=100, multi_class='ovr', n_jobs=1,\n",
       "          penalty='l2', random_state=None, solver='liblinear', tol=0.0001,\n",
       "          verbose=0, warm_start=False),\n",
       "       fit_params={}, iid=True, n_jobs=1,\n",
       "       param_grid={'penalty': ['l1', 'l2'], 'C': [0.0001, 0.001, 0.01, 0.1, 0.15, 0.25, 0.275, 0.33, 0.5, 0.66, 0.75, 1.0, 2.5, 5.0, 10.0, 100.0, 1000.0]},\n",
       "       pre_dispatch='2*n_jobs', refit=True, scoring=None, verbose=False)"
      ]
     },
     "execution_count": 58,
     "metadata": {},
     "output_type": "execute_result"
    }
   ],
   "source": [
    "logreg = LogisticRegression(solver='liblinear')\n",
    "C_vals = [0.0001, 0.001, 0.01, 0.1, .15, .25, .275, .33, 0.5, .66, 0.75, 1.0, 2.5, 5.0, 10.0, 100.0, 1000.0]\n",
    "penalties = ['l1','l2']\n",
    "\n",
    "gs = GridSearchCV(logreg, {'penalty': penalties, 'C': C_vals},verbose=False, cv=15)\n",
    "\n",
    "gs.fit(X, y)"
   ]
  },
  {
   "cell_type": "code",
   "execution_count": 59,
   "metadata": {
    "collapsed": false
   },
   "outputs": [
    {
     "name": "stdout",
     "output_type": "stream",
     "text": [
      "{'penalty': 'l1', 'C': 2.5}\n"
     ]
    }
   ],
   "source": [
    "print gs.best_params_"
   ]
  },
  {
   "cell_type": "markdown",
   "metadata": {},
   "source": [
    "#### We are getting pretty high accuracy score:"
   ]
  },
  {
   "cell_type": "code",
   "execution_count": 60,
   "metadata": {
    "collapsed": false
   },
   "outputs": [
    {
     "name": "stdout",
     "output_type": "stream",
     "text": [
      "0.795031055901\n"
     ]
    }
   ],
   "source": [
    "print gs.best_score_"
   ]
  },
  {
   "cell_type": "markdown",
   "metadata": {},
   "source": [
    "#### Now lets fit that best model and look at classification recall to see how good our algorithm is at predicting.\n"
   ]
  },
  {
   "cell_type": "code",
   "execution_count": 61,
   "metadata": {
    "collapsed": false
   },
   "outputs": [
    {
     "name": "stdout",
     "output_type": "stream",
     "text": [
      "             precision    recall  f1-score   support\n",
      "\n",
      "          0       0.61      0.58      0.59        19\n",
      "          1       0.78      0.80      0.79        35\n",
      "\n",
      "avg / total       0.72      0.72      0.72        54\n",
      "\n"
     ]
    }
   ],
   "source": [
    "logreg2 = LogisticRegression(C=gs.best_params_['C'],penalty=gs.best_params_['penalty'])\n",
    "cv_model = logreg.fit(X_train, y_train)\n",
    "\n",
    "cv_pred = cv_model.predict(X_test)\n",
    "\n",
    "cm = confusion_matrix(y_test, cv_pred, labels=logreg.classes_)\n",
    "cm = pd.DataFrame(cm, columns=logreg.classes_, index=logreg.classes_)\n",
    "\n",
    "cm\n",
    "\n",
    "print classification_report(y_test, cv_pred,\n",
    "                            labels=logreg.classes_)"
   ]
  },
  {
   "cell_type": "markdown",
   "metadata": {},
   "source": [
    "#### Our f1 scores (which is \"balanced\" mean score of our precision and accuracy score) are 59% and 79% for lower and higher salaries respectively.\n"
   ]
  },
  {
   "cell_type": "markdown",
   "metadata": {},
   "source": [
    "#### Lets visualize our positive and negative rates. Area under the curve is a measure of accuracy.\n",
    "#### I'm using generic curve plotting function."
   ]
  },
  {
   "cell_type": "code",
   "execution_count": 62,
   "metadata": {
    "collapsed": true
   },
   "outputs": [],
   "source": [
    "\n",
    "def auc_plotting_function(rate1, rate2, rate1_name, rate2_name, curve_name):\n",
    "    AUC = auc(rate1, rate2)\n",
    "    # Plot of a ROC curve for class 1 (salary is higher than average)\n",
    "    plt.figure(figsize=[11,9])\n",
    "    plt.plot(rate1, rate2, label=curve_name + ' (area = %0.2f)' % AUC, linewidth=4)\n",
    "    plt.plot([0, 1], [0, 1], 'k--', linewidth=4)\n",
    "    plt.xlim([0.0, 1.0])\n",
    "    plt.ylim([0.0, 1.05])\n",
    "    plt.xlabel(rate1_name, fontsize=18)\n",
    "    plt.ylabel(rate2_name, fontsize=18)\n",
    "    plt.title(curve_name + ' for salaries higher than average ($ 93,829)', fontsize=18)\n",
    "    plt.legend(loc=\"lower right\")\n",
    "    plt.show()\n",
    "\n",
    "\n",
    "def plot_roc(y_true, y_score):\n",
    "    fpr, tpr, _ = roc_curve(y_true, y_score)\n",
    "    auc_plotting_function(fpr, tpr, 'False Positive', 'True Positive', 'ROC')"
   ]
  },
  {
   "cell_type": "code",
   "execution_count": 63,
   "metadata": {
    "collapsed": false
   },
   "outputs": [
    {
     "data": {
      "image/png": "[encoded data removed]",
      "text/plain": [
       "<matplotlib.figure.Figure at 0x110a0ca10>"
      ]
     },
     "metadata": {},
     "output_type": "display_data"
    }
   ],
   "source": [
    "\n",
    "import numpy as np\n",
    "import pandas as pd\n",
    "import matplotlib.pyplot as plt\n",
    "from sklearn.linear_model import LogisticRegression\n",
    "from sklearn.metrics import roc_curve, auc\n",
    "from sklearn.cross_validation import train_test_split\n",
    "from sklearn.metrics import confusion_matrix, accuracy_score, precision_score, recall_score\n",
    "\n",
    "plt.style.use('seaborn-white')\n",
    "%matplotlib inline\n",
    "\n",
    "Y_score = logreg.decision_function(X_test)\n",
    "plot_roc(y_test, Y_score)"
   ]
  },
  {
   "cell_type": "markdown",
   "metadata": {},
   "source": [
    "#### Finally, I want to see which features contribute most to my predictions."
   ]
  },
  {
   "cell_type": "code",
   "execution_count": 64,
   "metadata": {
    "collapsed": false
   },
   "outputs": [
    {
     "name": "stderr",
     "output_type": "stream",
     "text": [
      "/Users/tetyanadzhula/anaconda/lib/python2.7/site-packages/sklearn/feature_selection/univariate_selection.py:113: UserWarning: Features [ 4  5  8  9 10 12 13 14 15 16 17 23 24 25] are constant.\n",
      "  UserWarning)\n",
      "/Users/tetyanadzhula/anaconda/lib/python2.7/site-packages/sklearn/feature_selection/univariate_selection.py:114: RuntimeWarning: invalid value encountered in divide\n",
      "  f = msb / msw\n"
     ]
    }
   ],
   "source": [
    "from sklearn.feature_selection import SelectKBest, f_classif\n",
    "kbest_columns = SelectKBest(f_classif, k=10)\n",
    "kbest_columns.fit(X,y)\n",
    "scores = -np.log10(kbest_columns.pvalues_)\n",
    "scores\n",
    "support = list(kbest_columns.get_support())\n"
   ]
  },
  {
   "cell_type": "markdown",
   "metadata": {},
   "source": [
    "#### These are my 10 best features that have maximum relevance to my target variable."
   ]
  },
  {
   "cell_type": "code",
   "execution_count": 65,
   "metadata": {
    "collapsed": false
   },
   "outputs": [
    {
     "data": {
      "text/plain": [
       "Index([u'machine learning', u'senior', u'MA', u'TX', u'WA', u'Austin',\n",
       "       u'Bellevue', u'Boston', u'San Jose', u'Seattle'],\n",
       "      dtype='object')"
      ]
     },
     "execution_count": 65,
     "metadata": {},
     "output_type": "execute_result"
    }
   ],
   "source": [
    "X.columns[support]"
   ]
  }
 ],
 "metadata": {
  "anaconda-cloud": {},
  "kernelspec": {
   "display_name": "Python 2",
   "language": "python",
   "name": "python2"
  },
  "language_info": {
   "codemirror_mode": {
    "name": "ipython",
    "version": 2
   },
   "file_extension": ".py",
   "mimetype": "text/x-python",
   "name": "python",
   "nbconvert_exporter": "python",
   "pygments_lexer": "ipython2",
   "version": "2.7.13"
  }
 },
 "nbformat": 4,
 "nbformat_minor": 1
}

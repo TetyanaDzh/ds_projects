{
 "cells": [
  {
   "cell_type": "code",
   "execution_count": 1,
   "metadata": {
    "collapsed": false
   },
   "outputs": [
    {
     "name": "stderr",
     "output_type": "stream",
     "text": [
      "/Users/tetyanadzhula/anaconda/lib/python2.7/site-packages/sklearn/cross_validation.py:44: DeprecationWarning: This module was deprecated in version 0.18 in favor of the model_selection module into which all the refactored classes and functions are moved. Also note that the interface of the new CV iterators are different from that of this module. This module will be removed in 0.20.\n",
      "  \"This module will be removed in 0.20.\", DeprecationWarning)\n",
      "/Users/tetyanadzhula/anaconda/lib/python2.7/site-packages/sklearn/grid_search.py:43: DeprecationWarning: This module was deprecated in version 0.18 in favor of the model_selection module into which all the refactored classes and functions are moved. This module will be removed in 0.20.\n",
      "  DeprecationWarning)\n"
     ]
    }
   ],
   "source": [
    "import pandas as pd\n",
    "import numpy as np\n",
    "from datetime import datetime\n",
    "import matplotlib.pyplot as plt\n",
    "%matplotlib inline\n",
    "from sklearn.metrics import classification_report, confusion_matrix, accuracy_score\n",
    "from sklearn.model_selection import train_test_split, cross_val_score\n",
    "from sklearn.linear_model import LogisticRegression, LogisticRegressionCV\n",
    "from sklearn.grid_search import GridSearchCV\n",
    "import math"
   ]
  },
  {
   "cell_type": "markdown",
   "metadata": {},
   "source": [
    "# Encoding"
   ]
  },
  {
   "cell_type": "code",
   "execution_count": null,
   "metadata": {
    "collapsed": true
   },
   "outputs": [],
   "source": [
    "df['title'] =  df['title'].astype(str)"
   ]
  },
  {
   "cell_type": "code",
   "execution_count": null,
   "metadata": {
    "collapsed": false
   },
   "outputs": [],
   "source": [
    "df['title'] = df['title'].apply(lambda x: x.decode('unicode_escape').\\\n",
    "                                          encode('ascii', 'ignore').\\\n",
    "                                          strip())"
   ]
  },
  {
   "cell_type": "code",
   "execution_count": null,
   "metadata": {
    "collapsed": false
   },
   "outputs": [],
   "source": [
    "from langdetect import detect\n",
    "from langdetect import detect_langs\n",
    "detect_langs(\"Otec matka syn.\")"
   ]
  },
  {
   "cell_type": "code",
   "execution_count": null,
   "metadata": {
    "collapsed": false
   },
   "outputs": [],
   "source": [
    "myList = []\n",
    "for element in df['title']:\n",
    "    try:\n",
    "        if detect(element) == \"en\":\n",
    "            myList.append('English')\n",
    "        else:\n",
    "            myList.append('Some Other Language')\n",
    "    except:\n",
    "        myList.append(\"Error\")\n",
    "        \n",
    "\n",
    "len(myList)"
   ]
  },
  {
   "cell_type": "code",
   "execution_count": null,
   "metadata": {
    "collapsed": false
   },
   "outputs": [],
   "source": [
    "len(myList)"
   ]
  },
  {
   "cell_type": "code",
   "execution_count": null,
   "metadata": {
    "collapsed": false
   },
   "outputs": [],
   "source": [
    "df['conv_title'] = myList"
   ]
  },
  {
   "cell_type": "code",
   "execution_count": null,
   "metadata": {
    "collapsed": false
   },
   "outputs": [],
   "source": [
    "df['conv_title'].value_counts()"
   ]
  },
  {
   "cell_type": "code",
   "execution_count": null,
   "metadata": {
    "collapsed": false
   },
   "outputs": [],
   "source": [
    "df = df[df['conv_title'] == 'English']"
   ]
  },
  {
   "cell_type": "code",
   "execution_count": 23,
   "metadata": {
    "collapsed": true
   },
   "outputs": [],
   "source": [
    "# df.to_csv('features_df.csv', encoding='utf-8', index=False)\n",
    "df = pd.read_csv('features_df.csv')"
   ]
  },
  {
   "cell_type": "code",
   "execution_count": 24,
   "metadata": {
    "collapsed": false
   },
   "outputs": [],
   "source": [
    "categories_dict = {'Crimea' :1, 'Culture and history' :2, 'Fighting in Eastern Ukraine':3, \\\n",
    "                   'Global discussions about Ukraine':4, 'Humanitarian crisis in Eastern Ukraine':5, \\\n",
    "                   'Life in DPR/LPR and near-front zone':6, 'Mentioning of Ukraine':7, \\\n",
    "                   'MH-17 crash':8,  'Military/humanitarian aid for Ukraine':9, 'Not related to Ukraine':10, \\\n",
    "                   'Other':11, 'Peace talks':12, 'Prisoners of war':13, 'Sanctions against Russia':14, 'Sport':15, \\\n",
    "                   'Ukrainian economy/industry':16, 'Ukrainian government and society':17, \\\n",
    "                   'Ukrainian international relations' :18, 'Emergencies in Ukraine':19, \\\n",
    "                  'Russian “humanitarian” aid':20}\n",
    "    \n",
    "df['c_label'] = df['topic_name'].apply(lambda x: categories_dict[x])"
   ]
  },
  {
   "cell_type": "code",
   "execution_count": 25,
   "metadata": {
    "collapsed": false
   },
   "outputs": [
    {
     "data": {
      "text/html": [
       "<div>\n",
       "<table border=\"1\" class=\"dataframe\">\n",
       "  <thead>\n",
       "    <tr style=\"text-align: right;\">\n",
       "      <th></th>\n",
       "      <th>title</th>\n",
       "      <th>author</th>\n",
       "      <th>publisher_url</th>\n",
       "      <th>pub_week</th>\n",
       "      <th>pub_day</th>\n",
       "      <th>pub_month</th>\n",
       "      <th>social_fb</th>\n",
       "      <th>social_tw</th>\n",
       "      <th>impact_score</th>\n",
       "      <th>topic_name</th>\n",
       "      <th>hq_city</th>\n",
       "      <th>hq_country</th>\n",
       "      <th>is_ukr_press</th>\n",
       "      <th>editor</th>\n",
       "      <th>year</th>\n",
       "      <th>month</th>\n",
       "      <th>week</th>\n",
       "      <th>date</th>\n",
       "      <th>conv_title</th>\n",
       "      <th>c_label</th>\n",
       "    </tr>\n",
       "  </thead>\n",
       "  <tbody>\n",
       "    <tr>\n",
       "      <th>0</th>\n",
       "      <td>Timing of Report by Flight's Pilot Focuses Inq...</td>\n",
       "      <td>NaN</td>\n",
       "      <td>nytimes.com</td>\n",
       "      <td>2014-11</td>\n",
       "      <td>2014-03-16</td>\n",
       "      <td>2014-03</td>\n",
       "      <td>4399.0</td>\n",
       "      <td>1877</td>\n",
       "      <td>6276</td>\n",
       "      <td>MH-17 crash</td>\n",
       "      <td>Unknown</td>\n",
       "      <td>Unknown</td>\n",
       "      <td>0.0</td>\n",
       "      <td>anonymous</td>\n",
       "      <td>2014</td>\n",
       "      <td>3.0</td>\n",
       "      <td>11.0</td>\n",
       "      <td>16.0</td>\n",
       "      <td>English</td>\n",
       "      <td>8</td>\n",
       "    </tr>\n",
       "  </tbody>\n",
       "</table>\n",
       "</div>"
      ],
      "text/plain": [
       "                                               title author publisher_url  \\\n",
       "0  Timing of Report by Flight's Pilot Focuses Inq...    NaN   nytimes.com   \n",
       "\n",
       "  pub_week     pub_day pub_month  social_fb  social_tw  impact_score  \\\n",
       "0  2014-11  2014-03-16   2014-03     4399.0       1877          6276   \n",
       "\n",
       "    topic_name  hq_city hq_country  is_ukr_press     editor  year  month  \\\n",
       "0  MH-17 crash  Unknown    Unknown           0.0  anonymous  2014    3.0   \n",
       "\n",
       "   week  date conv_title  c_label  \n",
       "0  11.0  16.0    English        8  "
      ]
     },
     "execution_count": 25,
     "metadata": {},
     "output_type": "execute_result"
    }
   ],
   "source": [
    "df.head(1)"
   ]
  },
  {
   "cell_type": "code",
   "execution_count": 26,
   "metadata": {
    "collapsed": false
   },
   "outputs": [
    {
     "data": {
      "text/plain": [
       "102606"
      ]
     },
     "execution_count": 26,
     "metadata": {},
     "output_type": "execute_result"
    }
   ],
   "source": [
    "len(df)"
   ]
  },
  {
   "cell_type": "markdown",
   "metadata": {},
   "source": [
    "# Features"
   ]
  },
  {
   "cell_type": "code",
   "execution_count": 29,
   "metadata": {
    "collapsed": false
   },
   "outputs": [
    {
     "data": {
      "text/plain": [
       "90124"
      ]
     },
     "execution_count": 29,
     "metadata": {},
     "output_type": "execute_result"
    }
   ],
   "source": [
    "data = df.ix[:, ['title', 'c_label']]\n",
    "data = data[data['c_label'] != 10]\n",
    "data.dropna(inplace=True)\n",
    "len(data)"
   ]
  },
  {
   "cell_type": "code",
   "execution_count": 30,
   "metadata": {
    "collapsed": true
   },
   "outputs": [],
   "source": [
    "X = data['title']"
   ]
  },
  {
   "cell_type": "code",
   "execution_count": 31,
   "metadata": {
    "collapsed": false
   },
   "outputs": [],
   "source": [
    "y = data['c_label']"
   ]
  },
  {
   "cell_type": "code",
   "execution_count": 32,
   "metadata": {
    "collapsed": false
   },
   "outputs": [],
   "source": [
    "from sklearn.feature_extraction.text import CountVectorizer"
   ]
  },
  {
   "cell_type": "code",
   "execution_count": 33,
   "metadata": {
    "collapsed": false
   },
   "outputs": [
    {
     "data": {
      "text/plain": [
       "1156"
      ]
     },
     "execution_count": 33,
     "metadata": {},
     "output_type": "execute_result"
    }
   ],
   "source": [
    "cvec2 = CountVectorizer(stop_words='english', encoding=u'utf-8', min_df = 100)\n",
    "cvec2.fit(X)\n",
    "len(cvec2.get_feature_names())"
   ]
  },
  {
   "cell_type": "code",
   "execution_count": 34,
   "metadata": {
    "collapsed": false
   },
   "outputs": [],
   "source": [
    "X = pd.DataFrame(cvec2.transform(X).todense(), columns=cvec2.get_feature_names())"
   ]
  },
  {
   "cell_type": "code",
   "execution_count": 35,
   "metadata": {
    "collapsed": false
   },
   "outputs": [
    {
     "data": {
      "text/plain": [
       "Index([u'000', u'10', u'100', u'11', u'12', u'13', u'14', u'15', u'16', u'17',\n",
       "       ...\n",
       "       u'yahoo', u'yanukovych', u'yarmolenko', u'yatseniuk', u'yatsenyuk',\n",
       "       u'year', u'years', u'york', u'zee', u'zone'],\n",
       "      dtype='object', length=1156)"
      ]
     },
     "execution_count": 35,
     "metadata": {},
     "output_type": "execute_result"
    }
   ],
   "source": [
    "X.columns"
   ]
  },
  {
   "cell_type": "code",
   "execution_count": 36,
   "metadata": {
    "collapsed": false
   },
   "outputs": [
    {
     "data": {
      "text/html": [
       "<div>\n",
       "<table border=\"1\" class=\"dataframe\">\n",
       "  <thead>\n",
       "    <tr style=\"text-align: right;\">\n",
       "      <th></th>\n",
       "      <th>000</th>\n",
       "      <th>10</th>\n",
       "      <th>100</th>\n",
       "      <th>11</th>\n",
       "      <th>12</th>\n",
       "      <th>13</th>\n",
       "      <th>14</th>\n",
       "      <th>15</th>\n",
       "      <th>16</th>\n",
       "      <th>17</th>\n",
       "      <th>...</th>\n",
       "      <th>yahoo</th>\n",
       "      <th>yanukovych</th>\n",
       "      <th>yarmolenko</th>\n",
       "      <th>yatseniuk</th>\n",
       "      <th>yatsenyuk</th>\n",
       "      <th>year</th>\n",
       "      <th>years</th>\n",
       "      <th>york</th>\n",
       "      <th>zee</th>\n",
       "      <th>zone</th>\n",
       "    </tr>\n",
       "  </thead>\n",
       "  <tbody>\n",
       "    <tr>\n",
       "      <th>0</th>\n",
       "      <td>0</td>\n",
       "      <td>0</td>\n",
       "      <td>0</td>\n",
       "      <td>0</td>\n",
       "      <td>0</td>\n",
       "      <td>0</td>\n",
       "      <td>0</td>\n",
       "      <td>0</td>\n",
       "      <td>0</td>\n",
       "      <td>0</td>\n",
       "      <td>...</td>\n",
       "      <td>0</td>\n",
       "      <td>0</td>\n",
       "      <td>0</td>\n",
       "      <td>0</td>\n",
       "      <td>0</td>\n",
       "      <td>0</td>\n",
       "      <td>0</td>\n",
       "      <td>0</td>\n",
       "      <td>0</td>\n",
       "      <td>0</td>\n",
       "    </tr>\n",
       "    <tr>\n",
       "      <th>1</th>\n",
       "      <td>0</td>\n",
       "      <td>0</td>\n",
       "      <td>0</td>\n",
       "      <td>0</td>\n",
       "      <td>0</td>\n",
       "      <td>0</td>\n",
       "      <td>0</td>\n",
       "      <td>0</td>\n",
       "      <td>0</td>\n",
       "      <td>0</td>\n",
       "      <td>...</td>\n",
       "      <td>0</td>\n",
       "      <td>0</td>\n",
       "      <td>0</td>\n",
       "      <td>0</td>\n",
       "      <td>0</td>\n",
       "      <td>0</td>\n",
       "      <td>0</td>\n",
       "      <td>0</td>\n",
       "      <td>0</td>\n",
       "      <td>0</td>\n",
       "    </tr>\n",
       "  </tbody>\n",
       "</table>\n",
       "<p>2 rows × 1156 columns</p>\n",
       "</div>"
      ],
      "text/plain": [
       "   000  10  100  11  12  13  14  15  16  17  ...   yahoo  yanukovych  \\\n",
       "0    0   0    0   0   0   0   0   0   0   0  ...       0           0   \n",
       "1    0   0    0   0   0   0   0   0   0   0  ...       0           0   \n",
       "\n",
       "   yarmolenko  yatseniuk  yatsenyuk  year  years  york  zee  zone  \n",
       "0           0          0          0     0      0     0    0     0  \n",
       "1           0          0          0     0      0     0    0     0  \n",
       "\n",
       "[2 rows x 1156 columns]"
      ]
     },
     "execution_count": 36,
     "metadata": {},
     "output_type": "execute_result"
    }
   ],
   "source": [
    "X.head(2)"
   ]
  },
  {
   "cell_type": "code",
   "execution_count": 38,
   "metadata": {
    "collapsed": false
   },
   "outputs": [],
   "source": [
    "X_train, X_test, y_train, y_test = train_test_split(X.as_matrix(), y, \n",
    "                                                        test_size=0.30,\n",
    "                                                        random_state=14)"
   ]
  },
  {
   "cell_type": "markdown",
   "metadata": {},
   "source": [
    "# Naive Bayes"
   ]
  },
  {
   "cell_type": "code",
   "execution_count": 39,
   "metadata": {
    "collapsed": false
   },
   "outputs": [],
   "source": [
    "from sklearn import naive_bayes\n",
    "naive_b_class = naive_bayes.MultinomialNB().fit(X_train, y_train)"
   ]
  },
  {
   "cell_type": "code",
   "execution_count": 40,
   "metadata": {
    "collapsed": false
   },
   "outputs": [
    {
     "name": "stdout",
     "output_type": "stream",
     "text": [
      "[ 0.63898265  0.63461264  0.63446537]\n"
     ]
    }
   ],
   "source": [
    "from sklearn.model_selection import cross_val_score\n",
    "print cross_val_score(naive_b_class, X_train, y_train)"
   ]
  },
  {
   "cell_type": "code",
   "execution_count": 41,
   "metadata": {
    "collapsed": false
   },
   "outputs": [
    {
     "data": {
      "text/plain": [
       "0.63602022058837016"
      ]
     },
     "execution_count": 41,
     "metadata": {},
     "output_type": "execute_result"
    }
   ],
   "source": [
    "cross_val_mean1 = cross_val_score(naive_b_class, X_train, y_train).mean()\n",
    "cross_val_mean1"
   ]
  },
  {
   "cell_type": "code",
   "execution_count": 42,
   "metadata": {
    "collapsed": false
   },
   "outputs": [
    {
     "data": {
      "text/plain": [
       "array([ 5199.,   623.,  8308.,  7633.,   657.,   325.,   847.,  2129.,\n",
       "        1569.,  5851.,  2163.,  1761.,  2092.,  5646.,  6187.,  7094.,\n",
       "        4411.,   399.,   192.])"
      ]
     },
     "execution_count": 42,
     "metadata": {},
     "output_type": "execute_result"
    }
   ],
   "source": [
    "naive_b_class.class_count_"
   ]
  },
  {
   "cell_type": "code",
   "execution_count": 43,
   "metadata": {
    "collapsed": false
   },
   "outputs": [],
   "source": [
    "y_pred = naive_b_class.predict(X_test)"
   ]
  },
  {
   "cell_type": "code",
   "execution_count": 44,
   "metadata": {
    "collapsed": false
   },
   "outputs": [
    {
     "name": "stdout",
     "output_type": "stream",
     "text": [
      "             precision    recall  f1-score   support\n",
      "\n",
      "          1       0.81      0.84      0.82      2225\n",
      "          2       0.27      0.33      0.30       271\n",
      "          3       0.64      0.68      0.66      3593\n",
      "          4       0.52      0.52      0.52      3321\n",
      "          5       0.42      0.39      0.41       295\n",
      "          6       0.37      0.22      0.28       137\n",
      "          7       0.48      0.39      0.43       371\n",
      "          8       0.92      0.92      0.92       930\n",
      "          9       0.53      0.56      0.54       636\n",
      "         11       0.36      0.28      0.31      2444\n",
      "         12       0.53      0.66      0.58       898\n",
      "         13       0.77      0.87      0.82       805\n",
      "         14       0.67      0.74      0.71       879\n",
      "         15       0.88      0.87      0.88      2437\n",
      "         16       0.67      0.74      0.71      2636\n",
      "         17       0.60      0.58      0.59      3051\n",
      "         18       0.54      0.47      0.50      1855\n",
      "         19       0.54      0.63      0.58       167\n",
      "         20       0.71      0.63      0.67        87\n",
      "\n",
      "avg / total       0.63      0.63      0.63     27038\n",
      "\n"
     ]
    }
   ],
   "source": [
    "print(classification_report(y_test, y_pred))"
   ]
  },
  {
   "cell_type": "code",
   "execution_count": 45,
   "metadata": {
    "collapsed": true
   },
   "outputs": [],
   "source": [
    "Xb = data['title']\n",
    "yb = data['c_label']"
   ]
  },
  {
   "cell_type": "code",
   "execution_count": 46,
   "metadata": {
    "collapsed": false
   },
   "outputs": [
    {
     "data": {
      "text/plain": [
       "2066"
      ]
     },
     "execution_count": 46,
     "metadata": {},
     "output_type": "execute_result"
    }
   ],
   "source": [
    "cvec_2 = CountVectorizer(stop_words='english', encoding=u'utf-8', min_df = 50)\n",
    "cvec_2.fit(Xb)\n",
    "len(cvec_2.get_feature_names())"
   ]
  },
  {
   "cell_type": "code",
   "execution_count": 47,
   "metadata": {
    "collapsed": true
   },
   "outputs": [],
   "source": [
    "Xb = pd.DataFrame(cvec_2.transform(Xb).todense(), columns=cvec_2.get_feature_names())"
   ]
  },
  {
   "cell_type": "code",
   "execution_count": 59,
   "metadata": {
    "collapsed": false
   },
   "outputs": [
    {
     "data": {
      "text/plain": [
       "Index([u'000', u'10', u'100', u'11', u'12', u'13', u'14', u'15', u'16', u'17',\n",
       "       ...\n",
       "       u'yatseniuk', u'yatsenyuk', u'year', u'years', u'york', u'young',\n",
       "       u'youth', u'zee', u'zik', u'zone'],\n",
       "      dtype='object', length=2066)"
      ]
     },
     "execution_count": 59,
     "metadata": {},
     "output_type": "execute_result"
    }
   ],
   "source": [
    "Xb.columns"
   ]
  },
  {
   "cell_type": "code",
   "execution_count": 60,
   "metadata": {
    "collapsed": false
   },
   "outputs": [],
   "source": [
    "Xb_train, Xb_test, yb_train, yb_test = train_test_split(Xb, yb, \n",
    "                                                        test_size=0.30,\n",
    "                                                        random_state=14)"
   ]
  },
  {
   "cell_type": "code",
   "execution_count": 61,
   "metadata": {
    "collapsed": false
   },
   "outputs": [],
   "source": [
    "naive_b_class2 = naive_bayes.MultinomialNB().fit(Xb_train, yb_train)"
   ]
  },
  {
   "cell_type": "code",
   "execution_count": 62,
   "metadata": {
    "collapsed": false
   },
   "outputs": [
    {
     "name": "stdout",
     "output_type": "stream",
     "text": [
      "[ 0.662087    0.65896229  0.65800989]\n"
     ]
    }
   ],
   "source": [
    "print cross_val_score(naive_b_class2, Xb_train, yb_train)"
   ]
  },
  {
   "cell_type": "code",
   "execution_count": 63,
   "metadata": {
    "collapsed": true
   },
   "outputs": [],
   "source": [
    "y_pred2 = naive_b_class2.predict(Xb_test)"
   ]
  },
  {
   "cell_type": "code",
   "execution_count": 64,
   "metadata": {
    "collapsed": false
   },
   "outputs": [
    {
     "name": "stdout",
     "output_type": "stream",
     "text": [
      "             precision    recall  f1-score   support\n",
      "\n",
      "          1       0.82      0.84      0.83      2225\n",
      "          2       0.29      0.38      0.33       271\n",
      "          3       0.68      0.69      0.68      3593\n",
      "          4       0.52      0.54      0.53      3321\n",
      "          5       0.45      0.45      0.45       295\n",
      "          6       0.53      0.36      0.43       137\n",
      "          7       0.51      0.42      0.46       371\n",
      "          8       0.91      0.93      0.92       930\n",
      "          9       0.54      0.60      0.57       636\n",
      "         11       0.39      0.31      0.35      2444\n",
      "         12       0.53      0.68      0.60       898\n",
      "         13       0.79      0.88      0.83       805\n",
      "         14       0.68      0.75      0.71       879\n",
      "         15       0.90      0.91      0.90      2437\n",
      "         16       0.72      0.77      0.75      2636\n",
      "         17       0.64      0.60      0.62      3051\n",
      "         18       0.57      0.49      0.53      1855\n",
      "         19       0.57      0.74      0.64       167\n",
      "         20       0.78      0.61      0.68        87\n",
      "\n",
      "avg / total       0.65      0.66      0.65     27038\n",
      "\n"
     ]
    }
   ],
   "source": [
    "print(classification_report(yb_test, y_pred2))"
   ]
  },
  {
   "cell_type": "code",
   "execution_count": 65,
   "metadata": {
    "collapsed": false
   },
   "outputs": [],
   "source": [
    "X3 = data['title']\n",
    "y3 = data['c_label']"
   ]
  },
  {
   "cell_type": "code",
   "execution_count": 66,
   "metadata": {
    "collapsed": false
   },
   "outputs": [
    {
     "data": {
      "text/plain": [
       "2462"
      ]
     },
     "execution_count": 66,
     "metadata": {},
     "output_type": "execute_result"
    }
   ],
   "source": [
    "cvec_3 = CountVectorizer(stop_words='english', encoding=u'utf-8', min_df = 40)\n",
    "cvec_3.fit(X3)\n",
    "len(cvec_3.get_feature_names())"
   ]
  },
  {
   "cell_type": "code",
   "execution_count": 67,
   "metadata": {
    "collapsed": false
   },
   "outputs": [
    {
     "data": {
      "text/plain": [
       "Index([u'000', u'10', u'100', u'11', u'12', u'13', u'14', u'15', u'16', u'17',\n",
       "       ...\n",
       "       u'year', u'years', u'yes', u'yevhen', u'york', u'young', u'youth',\n",
       "       u'zee', u'zik', u'zone'],\n",
       "      dtype='object', length=2462)"
      ]
     },
     "execution_count": 67,
     "metadata": {},
     "output_type": "execute_result"
    }
   ],
   "source": [
    "X3 = pd.DataFrame(cvec_3.transform(X3).todense(), columns=cvec_3.get_feature_names())\n",
    "X3.columns"
   ]
  },
  {
   "cell_type": "code",
   "execution_count": 68,
   "metadata": {
    "collapsed": false
   },
   "outputs": [],
   "source": [
    "X3_train, X3_test, y3_train, y3_test = train_test_split(X3, y3, \n",
    "                                                        test_size=0.30,\n",
    "                                                        random_state=14)"
   ]
  },
  {
   "cell_type": "code",
   "execution_count": 69,
   "metadata": {
    "collapsed": true
   },
   "outputs": [],
   "source": [
    "naive_b_class3 = naive_bayes.MultinomialNB().fit(X3_train, y3_train)"
   ]
  },
  {
   "cell_type": "code",
   "execution_count": 70,
   "metadata": {
    "collapsed": false
   },
   "outputs": [
    {
     "name": "stdout",
     "output_type": "stream",
     "text": [
      "[ 0.66826717  0.66333761  0.664336  ]\n"
     ]
    }
   ],
   "source": [
    "print cross_val_score(naive_b_class3, X3_train, y3_train)"
   ]
  },
  {
   "cell_type": "code",
   "execution_count": 71,
   "metadata": {
    "collapsed": true
   },
   "outputs": [],
   "source": [
    "y_pred3 = naive_b_class3.predict(X3_test)"
   ]
  },
  {
   "cell_type": "code",
   "execution_count": 72,
   "metadata": {
    "collapsed": false
   },
   "outputs": [
    {
     "name": "stdout",
     "output_type": "stream",
     "text": [
      "             precision    recall  f1-score   support\n",
      "\n",
      "          1       0.82      0.84      0.83      2225\n",
      "          2       0.29      0.39      0.33       271\n",
      "          3       0.68      0.69      0.69      3593\n",
      "          4       0.53      0.55      0.54      3321\n",
      "          5       0.45      0.44      0.45       295\n",
      "          6       0.53      0.33      0.41       137\n",
      "          7       0.52      0.42      0.46       371\n",
      "          8       0.91      0.93      0.92       930\n",
      "          9       0.55      0.62      0.58       636\n",
      "         11       0.40      0.32      0.36      2444\n",
      "         12       0.54      0.68      0.60       898\n",
      "         13       0.80      0.89      0.84       805\n",
      "         14       0.68      0.76      0.72       879\n",
      "         15       0.91      0.91      0.91      2437\n",
      "         16       0.72      0.78      0.75      2636\n",
      "         17       0.65      0.61      0.63      3051\n",
      "         18       0.57      0.49      0.53      1855\n",
      "         19       0.60      0.73      0.66       167\n",
      "         20       0.79      0.61      0.69        87\n",
      "\n",
      "avg / total       0.66      0.66      0.66     27038\n",
      "\n"
     ]
    }
   ],
   "source": [
    "print(classification_report(y3_test, y_pred3))"
   ]
  },
  {
   "cell_type": "code",
   "execution_count": 73,
   "metadata": {
    "collapsed": true
   },
   "outputs": [],
   "source": [
    "X4 = data['title']\n",
    "y4 = data['c_label']"
   ]
  },
  {
   "cell_type": "code",
   "execution_count": 74,
   "metadata": {
    "collapsed": false
   },
   "outputs": [
    {
     "data": {
      "text/plain": [
       "2728"
      ]
     },
     "execution_count": 74,
     "metadata": {},
     "output_type": "execute_result"
    }
   ],
   "source": [
    "cvec_4 = CountVectorizer(stop_words='english', encoding=u'utf-8', min_df = 35)\n",
    "cvec_4.fit(X4)\n",
    "len(cvec_4.get_feature_names())"
   ]
  },
  {
   "cell_type": "code",
   "execution_count": 75,
   "metadata": {
    "collapsed": false
   },
   "outputs": [
    {
     "data": {
      "text/plain": [
       "Index([u'000', u'10', u'100', u'1000', u'11', u'12', u'13', u'14', u'15',\n",
       "       u'16',\n",
       "       ...\n",
       "       u'yes', u'yevhen', u'york', u'young', u'youth', u'zealand', u'zee',\n",
       "       u'zik', u'zone', u'zoo'],\n",
       "      dtype='object', length=2728)"
      ]
     },
     "execution_count": 75,
     "metadata": {},
     "output_type": "execute_result"
    }
   ],
   "source": [
    "X4 = pd.DataFrame(cvec_4.transform(X4).todense(), columns=cvec_4.get_feature_names())\n",
    "X4.columns"
   ]
  },
  {
   "cell_type": "code",
   "execution_count": 76,
   "metadata": {
    "collapsed": false
   },
   "outputs": [],
   "source": [
    "X4_train, X4_test, y4_train, y4_test = train_test_split(X4, y4, \n",
    "                                                        test_size=0.30,\n",
    "                                                        random_state=14)"
   ]
  },
  {
   "cell_type": "code",
   "execution_count": 77,
   "metadata": {
    "collapsed": true
   },
   "outputs": [],
   "source": [
    "naive_b_class4 = naive_bayes.MultinomialNB().fit(X4_train, y4_train)"
   ]
  },
  {
   "cell_type": "code",
   "execution_count": 78,
   "metadata": {
    "collapsed": false
   },
   "outputs": [
    {
     "name": "stdout",
     "output_type": "stream",
     "text": [
      "[ 0.67083432  0.66543016  0.66666667]\n"
     ]
    }
   ],
   "source": [
    "print cross_val_score(naive_b_class4, X4_train, y4_train)"
   ]
  },
  {
   "cell_type": "code",
   "execution_count": 79,
   "metadata": {
    "collapsed": true
   },
   "outputs": [],
   "source": [
    "cross_val_mean4 = cross_val_score(naive_b_class4, X4_train, y4_train).mean()"
   ]
  },
  {
   "cell_type": "code",
   "execution_count": 80,
   "metadata": {
    "collapsed": true
   },
   "outputs": [],
   "source": [
    "y_pred4 = naive_b_class4.predict(X4_test)"
   ]
  },
  {
   "cell_type": "code",
   "execution_count": 81,
   "metadata": {
    "collapsed": false
   },
   "outputs": [
    {
     "name": "stdout",
     "output_type": "stream",
     "text": [
      "             precision    recall  f1-score   support\n",
      "\n",
      "          1       0.82      0.84      0.83      2225\n",
      "          2       0.30      0.38      0.33       271\n",
      "          3       0.69      0.69      0.69      3593\n",
      "          4       0.53      0.55      0.54      3321\n",
      "          5       0.46      0.45      0.45       295\n",
      "          6       0.56      0.32      0.41       137\n",
      "          7       0.53      0.42      0.47       371\n",
      "          8       0.92      0.93      0.92       930\n",
      "          9       0.54      0.61      0.57       636\n",
      "         11       0.40      0.33      0.36      2444\n",
      "         12       0.53      0.69      0.60       898\n",
      "         13       0.80      0.89      0.84       805\n",
      "         14       0.69      0.76      0.72       879\n",
      "         15       0.91      0.91      0.91      2437\n",
      "         16       0.73      0.78      0.75      2636\n",
      "         17       0.65      0.61      0.63      3051\n",
      "         18       0.58      0.50      0.54      1855\n",
      "         19       0.59      0.72      0.65       167\n",
      "         20       0.80      0.60      0.68        87\n",
      "\n",
      "avg / total       0.66      0.66      0.66     27038\n",
      "\n"
     ]
    }
   ],
   "source": [
    "print(classification_report(y4_test, y_pred4))"
   ]
  },
  {
   "cell_type": "code",
   "execution_count": 82,
   "metadata": {
    "collapsed": false
   },
   "outputs": [
    {
     "name": "stdout",
     "output_type": "stream",
     "text": [
      "Naive Bayes model improved by: (%) 3.1623496623\n"
     ]
    }
   ],
   "source": [
    "print 'Naive Bayes model improved by: (%)',  (cross_val_mean4 - cross_val_mean1)*100 "
   ]
  },
  {
   "cell_type": "markdown",
   "metadata": {},
   "source": [
    "# Random Forest"
   ]
  },
  {
   "cell_type": "code",
   "execution_count": 83,
   "metadata": {
    "collapsed": true
   },
   "outputs": [],
   "source": [
    "from sklearn.ensemble import RandomForestClassifier\n",
    "rf = RandomForestClassifier(n_estimators=10)"
   ]
  },
  {
   "cell_type": "code",
   "execution_count": 85,
   "metadata": {
    "collapsed": false
   },
   "outputs": [
    {
     "data": {
      "text/plain": [
       "array([ 0.65177086,  0.65068721,  0.64935312])"
      ]
     },
     "execution_count": 85,
     "metadata": {},
     "output_type": "execute_result"
    }
   ],
   "source": [
    "cross_val_score(rf, X_train, y_train)"
   ]
  },
  {
   "cell_type": "code",
   "execution_count": 86,
   "metadata": {
    "collapsed": true
   },
   "outputs": [],
   "source": [
    "y_pred = rf.predict(X_test)"
   ]
  },
  {
   "cell_type": "code",
   "execution_count": 87,
   "metadata": {
    "collapsed": false
   },
   "outputs": [
    {
     "name": "stdout",
     "output_type": "stream",
     "text": [
      "             precision    recall  f1-score   support\n",
      "\n",
      "          1       0.84      0.90      0.87      2225\n",
      "          2       0.41      0.31      0.35       271\n",
      "          3       0.68      0.70      0.69      3593\n",
      "          4       0.56      0.60      0.58      3321\n",
      "          5       0.61      0.43      0.51       295\n",
      "          6       0.55      0.45      0.49       137\n",
      "          7       0.54      0.44      0.48       371\n",
      "          8       0.93      0.91      0.92       930\n",
      "          9       0.53      0.45      0.48       636\n",
      "         11       0.36      0.39      0.37      2444\n",
      "         12       0.64      0.58      0.61       898\n",
      "         13       0.88      0.82      0.85       805\n",
      "         14       0.76      0.77      0.77       879\n",
      "         15       0.88      0.90      0.89      2437\n",
      "         16       0.71      0.74      0.72      2636\n",
      "         17       0.65      0.64      0.64      3051\n",
      "         18       0.61      0.52      0.56      1855\n",
      "         19       0.80      0.59      0.68       167\n",
      "         20       0.80      0.60      0.68        87\n",
      "\n",
      "avg / total       0.67      0.67      0.67     27038\n",
      "\n"
     ]
    }
   ],
   "source": [
    "print(classification_report(y_test, y_pred))"
   ]
  },
  {
   "cell_type": "code",
   "execution_count": 88,
   "metadata": {
    "collapsed": false
   },
   "outputs": [
    {
     "data": {
      "text/plain": [
       "array([ 0.67102448,  0.66890189,  0.66547755])"
      ]
     },
     "execution_count": 88,
     "metadata": {},
     "output_type": "execute_result"
    }
   ],
   "source": [
    "cross_val_score(rf, X4_train, y4_train)"
   ]
  },
  {
   "cell_type": "markdown",
   "metadata": {},
   "source": [
    "# Logistic Regression  & Lasso"
   ]
  },
  {
   "cell_type": "code",
   "execution_count": 95,
   "metadata": {
    "collapsed": false
   },
   "outputs": [],
   "source": [
    "lr = LogisticRegression()\n",
    "lr_model = lr.fit(X4_train, y4_train)"
   ]
  },
  {
   "cell_type": "code",
   "execution_count": 96,
   "metadata": {
    "collapsed": false
   },
   "outputs": [],
   "source": [
    "lr_ypred = lr_model.predict(X4_test)"
   ]
  },
  {
   "cell_type": "code",
   "execution_count": 97,
   "metadata": {
    "collapsed": false
   },
   "outputs": [
    {
     "name": "stdout",
     "output_type": "stream",
     "text": [
      "             precision    recall  f1-score   support\n",
      "\n",
      "          1       0.88      0.90      0.89      2225\n",
      "          2       0.44      0.17      0.25       271\n",
      "          3       0.69      0.73      0.71      3593\n",
      "          4       0.57      0.62      0.59      3321\n",
      "          5       0.63      0.39      0.48       295\n",
      "          6       0.76      0.32      0.45       137\n",
      "          7       0.70      0.39      0.50       371\n",
      "          8       0.98      0.92      0.95       930\n",
      "          9       0.67      0.56      0.61       636\n",
      "         11       0.41      0.39      0.40      2444\n",
      "         12       0.64      0.60      0.62       898\n",
      "         13       0.90      0.87      0.89       805\n",
      "         14       0.76      0.77      0.77       879\n",
      "         15       0.90      0.92      0.91      2437\n",
      "         16       0.76      0.82      0.79      2636\n",
      "         17       0.63      0.71      0.67      3051\n",
      "         18       0.62      0.51      0.56      1855\n",
      "         19       0.82      0.64      0.72       167\n",
      "         20       0.86      0.63      0.73        87\n",
      "\n",
      "avg / total       0.69      0.70      0.69     27038\n",
      "\n"
     ]
    }
   ],
   "source": [
    "print classification_report(y4_test, lr_ypred, labels=lr.classes_)"
   ]
  },
  {
   "cell_type": "code",
   "execution_count": 98,
   "metadata": {
    "collapsed": false
   },
   "outputs": [
    {
     "data": {
      "text/plain": [
       "array([ 0.5135288 ,  0.60643787,  0.58333333])"
      ]
     },
     "execution_count": 98,
     "metadata": {},
     "output_type": "execute_result"
    }
   ],
   "source": [
    "cvs1 = cross_val_score(lr, X, y, cv=3)\n",
    "cvs1"
   ]
  },
  {
   "cell_type": "code",
   "execution_count": 99,
   "metadata": {
    "collapsed": false
   },
   "outputs": [
    {
     "data": {
      "text/plain": [
       "array([ 0.52407894,  0.6153923 ,  0.59352111])"
      ]
     },
     "execution_count": 99,
     "metadata": {},
     "output_type": "execute_result"
    }
   ],
   "source": [
    "cvs1 = cross_val_score(lr, X4, y4, cv=3)\n",
    "cvs1"
   ]
  },
  {
   "cell_type": "code",
   "execution_count": 100,
   "metadata": {
    "collapsed": true
   },
   "outputs": [],
   "source": [
    "def test_penalties(c_val):\n",
    "    lr_l1 = LogisticRegression(C=c_val, penalty='l1', solver='liblinear')\n",
    "    cvs = cross_val_score(lr_l1, X4, y4, cv=3, scoring='accuracy')\n",
    "    return cvs"
   ]
  },
  {
   "cell_type": "code",
   "execution_count": 101,
   "metadata": {
    "collapsed": false
   },
   "outputs": [
    {
     "data": {
      "text/html": [
       "<div>\n",
       "<table border=\"1\" class=\"dataframe\">\n",
       "  <thead>\n",
       "    <tr style=\"text-align: right;\">\n",
       "      <th></th>\n",
       "      <th>c_vals</th>\n",
       "      <th>score</th>\n",
       "    </tr>\n",
       "  </thead>\n",
       "  <tbody>\n",
       "    <tr>\n",
       "      <th>0</th>\n",
       "      <td>0.001</td>\n",
       "      <td>0.227463</td>\n",
       "    </tr>\n",
       "    <tr>\n",
       "      <th>1</th>\n",
       "      <td>0.010</td>\n",
       "      <td>0.478719</td>\n",
       "    </tr>\n",
       "    <tr>\n",
       "      <th>2</th>\n",
       "      <td>0.100</td>\n",
       "      <td>0.566556</td>\n",
       "    </tr>\n",
       "    <tr>\n",
       "      <th>3</th>\n",
       "      <td>1.000</td>\n",
       "      <td>0.574236</td>\n",
       "    </tr>\n",
       "    <tr>\n",
       "      <th>4</th>\n",
       "      <td>1.500</td>\n",
       "      <td>0.568666</td>\n",
       "    </tr>\n",
       "    <tr>\n",
       "      <th>5</th>\n",
       "      <td>2.500</td>\n",
       "      <td>0.560322</td>\n",
       "    </tr>\n",
       "    <tr>\n",
       "      <th>6</th>\n",
       "      <td>5.000</td>\n",
       "      <td>0.549647</td>\n",
       "    </tr>\n",
       "    <tr>\n",
       "      <th>7</th>\n",
       "      <td>10.000</td>\n",
       "      <td>0.539162</td>\n",
       "    </tr>\n",
       "    <tr>\n",
       "      <th>8</th>\n",
       "      <td>100.000</td>\n",
       "      <td>0.506151</td>\n",
       "    </tr>\n",
       "  </tbody>\n",
       "</table>\n",
       "</div>"
      ],
      "text/plain": [
       "    c_vals     score\n",
       "0    0.001  0.227463\n",
       "1    0.010  0.478719\n",
       "2    0.100  0.566556\n",
       "3    1.000  0.574236\n",
       "4    1.500  0.568666\n",
       "5    2.500  0.560322\n",
       "6    5.000  0.549647\n",
       "7   10.000  0.539162\n",
       "8  100.000  0.506151"
      ]
     },
     "execution_count": 101,
     "metadata": {},
     "output_type": "execute_result"
    }
   ],
   "source": [
    "test_cs = pd.Series([.001, .01, .1, 1, 1.5, 2.5, 5, 10, 100]).to_frame('c_vals')\n",
    "score_frame = pd.DataFrame([test_penalties(x) for x in test_cs['c_vals']]).mean(axis=1).to_frame('score')\n",
    "\n",
    "final_scores = pd.concat([test_cs, score_frame], axis=1)\n",
    "final_scores"
   ]
  },
  {
   "cell_type": "code",
   "execution_count": 102,
   "metadata": {
    "collapsed": false
   },
   "outputs": [
    {
     "data": {
      "text/plain": [
       "1.0"
      ]
     },
     "execution_count": 102,
     "metadata": {},
     "output_type": "execute_result"
    }
   ],
   "source": [
    "# best c value\n",
    "final_scores['c_vals'][final_scores['score'].idxmax()]"
   ]
  },
  {
   "cell_type": "code",
   "execution_count": 103,
   "metadata": {
    "collapsed": true
   },
   "outputs": [],
   "source": [
    "logreg_cv = LogisticRegressionCV(Cs=20, solver='liblinear', cv=3, penalty='l1', scoring='accuracy')\n",
    "cv_model = logreg_cv.fit(X4_train, y4_train)"
   ]
  },
  {
   "cell_type": "code",
   "execution_count": 104,
   "metadata": {
    "collapsed": false
   },
   "outputs": [
    {
     "name": "stdout",
     "output_type": "stream",
     "text": [
      "best C for class:\n",
      "{1: 0.61584821106602605, 2: 0.61584821106602605, 3: 1.623776739188721, 4: 0.61584821106602605, 5: 0.61584821106602605, 6: 1.623776739188721, 7: 0.61584821106602605, 8: 1.623776739188721, 9: 0.61584821106602605, 11: 0.61584821106602605, 12: 1.623776739188721, 13: 1.623776739188721, 14: 1.623776739188721, 15: 4.2813323987193961, 16: 1.623776739188721, 17: 1.623776739188721, 18: 1.623776739188721, 19: 1.623776739188721, 20: 0.61584821106602605}\n"
     ]
    }
   ],
   "source": [
    "print('best C for class:')\n",
    "best_C = {logreg_cv.classes_[i]:x for i, (x, c) in enumerate(zip(logreg_cv.C_, logreg_cv.classes_))}\n",
    "print(best_C)\n"
   ]
  },
  {
   "cell_type": "code",
   "execution_count": 105,
   "metadata": {
    "collapsed": false
   },
   "outputs": [
    {
     "name": "stdout",
     "output_type": "stream",
     "text": [
      "             precision    recall  f1-score   support\n",
      "\n",
      "          1       0.89      0.90      0.89      2225\n",
      "          2       0.42      0.14      0.21       271\n",
      "          3       0.68      0.73      0.70      3593\n",
      "          4       0.57      0.61      0.59      3321\n",
      "          5       0.60      0.37      0.46       295\n",
      "          6       0.64      0.36      0.46       137\n",
      "          7       0.75      0.35      0.48       371\n",
      "          8       0.98      0.92      0.95       930\n",
      "          9       0.65      0.52      0.58       636\n",
      "         11       0.42      0.37      0.39      2444\n",
      "         12       0.63      0.60      0.62       898\n",
      "         13       0.89      0.87      0.88       805\n",
      "         14       0.76      0.77      0.76       879\n",
      "         15       0.87      0.93      0.90      2437\n",
      "         16       0.75      0.82      0.78      2636\n",
      "         17       0.62      0.71      0.67      3051\n",
      "         18       0.61      0.52      0.56      1855\n",
      "         19       0.82      0.68      0.74       167\n",
      "         20       0.84      0.60      0.70        87\n",
      "\n",
      "avg / total       0.69      0.69      0.69     27038\n",
      "\n"
     ]
    }
   ],
   "source": [
    "print classification_report(y4_test, logreg_cv.predict(X4_test))"
   ]
  },
  {
   "cell_type": "code",
   "execution_count": 106,
   "metadata": {
    "collapsed": true
   },
   "outputs": [],
   "source": [
    "lr_best = LogisticRegression(C=1.0, penalty='l1', solver='liblinear')\n",
    "lr_best_model = lr_best.fit(X4_train, y4_train)"
   ]
  },
  {
   "cell_type": "code",
   "execution_count": 107,
   "metadata": {
    "collapsed": true
   },
   "outputs": [],
   "source": [
    "lr_best_ypred = lr_best_model.predict(X4_test)"
   ]
  },
  {
   "cell_type": "code",
   "execution_count": 108,
   "metadata": {
    "collapsed": false
   },
   "outputs": [
    {
     "name": "stdout",
     "output_type": "stream",
     "text": [
      "             precision    recall  f1-score   support\n",
      "\n",
      "          1       0.88      0.90      0.89      2225\n",
      "          2       0.45      0.17      0.25       271\n",
      "          3       0.69      0.73      0.71      3593\n",
      "          4       0.56      0.62      0.59      3321\n",
      "          5       0.59      0.38      0.47       295\n",
      "          6       0.64      0.33      0.43       137\n",
      "          7       0.69      0.37      0.48       371\n",
      "          8       0.98      0.92      0.95       930\n",
      "          9       0.67      0.55      0.60       636\n",
      "         11       0.41      0.39      0.40      2444\n",
      "         12       0.64      0.59      0.61       898\n",
      "         13       0.89      0.87      0.88       805\n",
      "         14       0.77      0.76      0.76       879\n",
      "         15       0.90      0.92      0.91      2437\n",
      "         16       0.76      0.82      0.79      2636\n",
      "         17       0.63      0.70      0.66      3051\n",
      "         18       0.61      0.51      0.56      1855\n",
      "         19       0.81      0.68      0.74       167\n",
      "         20       0.86      0.63      0.73        87\n",
      "\n",
      "avg / total       0.69      0.69      0.69     27038\n",
      "\n"
     ]
    }
   ],
   "source": [
    "print classification_report(y4_test, lr_best_ypred, labels=lr_best.classes_)"
   ]
  },
  {
   "cell_type": "code",
   "execution_count": 109,
   "metadata": {
    "collapsed": false
   },
   "outputs": [],
   "source": [
    "C_vals_1 = [0.0001, 0.001, 0.01, ] \n",
    "C_vals_2 = [0.1, .15, .25, .275, .33]\n",
    "penalties = ['l1','l2']\n",
    "\n",
    "C_vals_3 = [0.5, .66, 0.75, 1.0]  \n",
    "C_vals_4 =  [2.5, 5.0, 10.0, 100.0, 1000.0]\n",
    "\n",
    "    "
   ]
  },
  {
   "cell_type": "code",
   "execution_count": 110,
   "metadata": {
    "collapsed": false
   },
   "outputs": [],
   "source": [
    "df = pd.DataFrame(columns=penalties, index=C_vals_1)\n",
    "for pen in penalties:\n",
    "    for c in C_vals_1:\n",
    "        logreg = LogisticRegression(C=c, penalty=pen)\n",
    "        logreg.fit(X4,y4)\n",
    "        df.loc[c, pen] = cross_val_score(logreg,X4,y4, cv=15).mean()"
   ]
  },
  {
   "cell_type": "code",
   "execution_count": null,
   "metadata": {
    "collapsed": false
   },
   "outputs": [],
   "source": [
    "df"
   ]
  },
  {
   "cell_type": "code",
   "execution_count": null,
   "metadata": {
    "collapsed": true
   },
   "outputs": [],
   "source": []
  },
  {
   "cell_type": "code",
   "execution_count": null,
   "metadata": {
    "collapsed": true
   },
   "outputs": [],
   "source": [
    "df2 = pd.DataFrame(columns=penalties, index=C_vals_2)\n",
    "for pen in penalties:\n",
    "    for c in C_vals_2:\n",
    "        logreg = LogisticRegression(C=c, penalty=pen)\n",
    "        logreg.fit(X4,y4)\n",
    "        df2.loc[c, pen] = cross_val_score(logreg,X4,y4, cv=15).mean()"
   ]
  },
  {
   "cell_type": "code",
   "execution_count": null,
   "metadata": {
    "collapsed": false
   },
   "outputs": [],
   "source": [
    "df2"
   ]
  },
  {
   "cell_type": "code",
   "execution_count": null,
   "metadata": {
    "collapsed": true
   },
   "outputs": [],
   "source": [
    "df3 = pd.DataFrame(columns=penalties, index=C_vals_3)\n",
    "for pen in penalties:\n",
    "    for c in C_vals_3:\n",
    "        logreg = LogisticRegression(C=c, penalty=pen)\n",
    "        logreg.fit(X4,y4)\n",
    "        df3.loc[c, pen] = cross_val_score(logreg,X4,y4, cv=15).mean()"
   ]
  },
  {
   "cell_type": "code",
   "execution_count": null,
   "metadata": {
    "collapsed": false
   },
   "outputs": [],
   "source": [
    "df3"
   ]
  },
  {
   "cell_type": "code",
   "execution_count": null,
   "metadata": {
    "collapsed": true
   },
   "outputs": [],
   "source": []
  },
  {
   "cell_type": "code",
   "execution_count": null,
   "metadata": {
    "collapsed": true
   },
   "outputs": [],
   "source": [
    "df4 = pd.DataFrame(columns=penalties, index=C_vals_4)\n",
    "for pen in penalties:\n",
    "    for c in C_vals_4:\n",
    "        logreg = LogisticRegression(C=c, penalty=pen)\n",
    "        logreg.fit(X4,y4)\n",
    "        df4.loc[c, pen] = cross_val_score(logreg,X4,y4, cv=15).mean()"
   ]
  },
  {
   "cell_type": "code",
   "execution_count": null,
   "metadata": {
    "collapsed": false
   },
   "outputs": [],
   "source": [
    "df4"
   ]
  },
  {
   "cell_type": "code",
   "execution_count": null,
   "metadata": {
    "collapsed": true
   },
   "outputs": [],
   "source": []
  },
  {
   "cell_type": "code",
   "execution_count": null,
   "metadata": {
    "collapsed": false
   },
   "outputs": [],
   "source": [
    "scores_df = pd.concat([df, df2, df3, df4])\n",
    "len(scores_df)"
   ]
  },
  {
   "cell_type": "code",
   "execution_count": null,
   "metadata": {
    "collapsed": false
   },
   "outputs": [],
   "source": [
    "scores_df.reset_index(inplace=True)\n",
    "scores_df.columns = ['penalty', 'l1',  'l2']\n"
   ]
  },
  {
   "cell_type": "code",
   "execution_count": null,
   "metadata": {
    "collapsed": false
   },
   "outputs": [],
   "source": [
    "import seaborn as sns\n",
    "# topics = df['topic_name'].value_counts().head(24).to_frame()\n",
    "# topics = topics.reset_index()\n",
    "# topics.columns = ['topic', 'number_of_publications']\n",
    "# topics = topics[topics['topic'] != 'Not related to Ukraine']\n",
    "\n",
    "\n",
    "\n",
    "plt.figure(figsize=(13, 9))\n",
    "sns.set_style(\"whitegrid\")\n",
    "sns.set(font_scale=2)\n",
    "ax = sns.barplot(x='penalty', y='l1', color ='lightblue', data=scores_df, saturation=2)\n",
    "ax.set_title('Logistic regression + l1', fontsize = 25)\n",
    "ax.set(xlabel='penalties', ylabel='scores')\n",
    "plt.xticks(rotation=90)\n",
    "plt.show()"
   ]
  },
  {
   "cell_type": "code",
   "execution_count": null,
   "metadata": {
    "collapsed": true
   },
   "outputs": [],
   "source": []
  },
  {
   "cell_type": "code",
   "execution_count": null,
   "metadata": {
    "collapsed": true
   },
   "outputs": [],
   "source": []
  },
  {
   "cell_type": "code",
   "execution_count": null,
   "metadata": {
    "collapsed": true
   },
   "outputs": [],
   "source": []
  },
  {
   "cell_type": "code",
   "execution_count": null,
   "metadata": {
    "collapsed": true
   },
   "outputs": [],
   "source": []
  },
  {
   "cell_type": "markdown",
   "metadata": {},
   "source": [
    "# Logistic regression + L2"
   ]
  },
  {
   "cell_type": "code",
   "execution_count": null,
   "metadata": {
    "collapsed": true
   },
   "outputs": [],
   "source": [
    "logreg_cv = LogisticRegressionCV(Cs=20, solver='liblinear', cv=3, penalty='l2', scoring='accuracy')\n",
    "cv_model = logreg_cv.fit(X4_train, y4_train)"
   ]
  },
  {
   "cell_type": "code",
   "execution_count": null,
   "metadata": {
    "collapsed": false
   },
   "outputs": [],
   "source": [
    "print('best C for class:')\n",
    "best_C = {logreg_cv.classes_[i]:x for i, (x, c) in enumerate(zip(logreg_cv.C_, logreg_cv.classes_))}\n",
    "print(best_C)"
   ]
  },
  {
   "cell_type": "code",
   "execution_count": null,
   "metadata": {
    "collapsed": false
   },
   "outputs": [],
   "source": [
    "print classification_report(y4_test, logreg_cv.predict(X4_test))"
   ]
  },
  {
   "cell_type": "code",
   "execution_count": null,
   "metadata": {
    "collapsed": true
   },
   "outputs": [],
   "source": []
  },
  {
   "cell_type": "code",
   "execution_count": null,
   "metadata": {
    "collapsed": true
   },
   "outputs": [],
   "source": []
  },
  {
   "cell_type": "code",
   "execution_count": null,
   "metadata": {
    "collapsed": true
   },
   "outputs": [],
   "source": []
  },
  {
   "cell_type": "code",
   "execution_count": null,
   "metadata": {
    "collapsed": true
   },
   "outputs": [],
   "source": []
  },
  {
   "cell_type": "code",
   "execution_count": null,
   "metadata": {
    "collapsed": true
   },
   "outputs": [],
   "source": []
  },
  {
   "cell_type": "code",
   "execution_count": null,
   "metadata": {
    "collapsed": true
   },
   "outputs": [],
   "source": []
  },
  {
   "cell_type": "code",
   "execution_count": null,
   "metadata": {
    "collapsed": true
   },
   "outputs": [],
   "source": []
  },
  {
   "cell_type": "code",
   "execution_count": null,
   "metadata": {
    "collapsed": true
   },
   "outputs": [],
   "source": []
  },
  {
   "cell_type": "code",
   "execution_count": null,
   "metadata": {
    "collapsed": true
   },
   "outputs": [],
   "source": []
  },
  {
   "cell_type": "code",
   "execution_count": null,
   "metadata": {
    "collapsed": true
   },
   "outputs": [],
   "source": []
  },
  {
   "cell_type": "code",
   "execution_count": null,
   "metadata": {
    "collapsed": true
   },
   "outputs": [],
   "source": []
  },
  {
   "cell_type": "code",
   "execution_count": null,
   "metadata": {
    "collapsed": true
   },
   "outputs": [],
   "source": []
  },
  {
   "cell_type": "code",
   "execution_count": null,
   "metadata": {
    "collapsed": false
   },
   "outputs": [],
   "source": [
    "# Using CountVerctorizer, I will get a count for the number of times each word appears in the title, removing stop words.\\\n",
    "# After that, I'll have a list of most frequent words for each of my 20 categories and make them my features.\n",
    "# With that feature set I will be ready to start testing the models - I am planning on trying Logistic Regression and \\\n",
    "# Random Forest."
   ]
  },
  {
   "cell_type": "code",
   "execution_count": null,
   "metadata": {
    "collapsed": false
   },
   "outputs": [],
   "source": [
    "common_words = []\n",
    "for i in xrange(len(categories)):\n",
    "    word_count = X_train[y_train==i].sum()\n",
    "    print categories[i], \"most common words\"\n",
    "    cw = word_count.sort_values(ascending = False).head(20)\n",
    "\n",
    "    print cw\n",
    "    common_words.extend(cw.index)\n",
    "    print"
   ]
  },
  {
   "cell_type": "code",
   "execution_count": null,
   "metadata": {
    "collapsed": false
   },
   "outputs": [],
   "source": [
    "df"
   ]
  },
  {
   "cell_type": "code",
   "execution_count": null,
   "metadata": {
    "collapsed": true
   },
   "outputs": [],
   "source": []
  }
 ],
 "metadata": {
  "kernelspec": {
   "display_name": "Python 2",
   "language": "python",
   "name": "python2"
  },
  "language_info": {
   "codemirror_mode": {
    "name": "ipython",
    "version": 2
   },
   "file_extension": ".py",
   "mimetype": "text/x-python",
   "name": "python",
   "nbconvert_exporter": "python",
   "pygments_lexer": "ipython2",
   "version": "2.7.13"
  }
 },
 "nbformat": 4,
 "nbformat_minor": 2
}

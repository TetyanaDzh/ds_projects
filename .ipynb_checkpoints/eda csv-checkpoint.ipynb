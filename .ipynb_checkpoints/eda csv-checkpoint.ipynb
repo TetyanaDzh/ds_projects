{
 "cells": [
  {
   "cell_type": "markdown",
   "metadata": {},
   "source": [
    "This project is dedicated to the exploration of the image of Ukraine in media and automatization of annotations of articles about Ukraine. I will be using reports from OKO project system, that collects all English language articles mentioning Ukraine, globally, 24 hours a day, 7 days a week. I have the title of each article, its source, date of publication, social impact(likes and shares on FB) and assigned category. There are 20 categories, that were determined by the editors as such that cover most topics in media. Assigning a category to the article is repetitive and time-consuming task - I will build a model that predicts the category, based on past data.  I will also be checking, if there are any trends and assume I will see how the interest to certain topics changes with time, which topics were the most popular, which articles were popular etc. \n",
    "The train data I will be using has categories, assigned by the editors - I assume, because of the large number of the articles, there will be some amount of articles with incorrectly assigned category. Another risk is that there could be a new phenomenon happening that is not covered in the list of categories (crash of MH17 plane prompted the editors to create a new category, that didn't exist before and the event is now a history and will have articles written about it for at least next few years).\n",
    "The observations and the predictive model will be presented to the OKO project team, aiming to inform them about the insights and automate part of their process, so that more of their time could be spent on special reports.\n"
   ]
  },
  {
   "cell_type": "code",
   "execution_count": 1,
   "metadata": {
    "collapsed": false
   },
   "outputs": [
    {
     "name": "stderr",
     "output_type": "stream",
     "text": [
      "/Users/tetyanadzhula/anaconda/lib/python2.7/site-packages/sklearn/cross_validation.py:44: DeprecationWarning: This module was deprecated in version 0.18 in favor of the model_selection module into which all the refactored classes and functions are moved. Also note that the interface of the new CV iterators are different from that of this module. This module will be removed in 0.20.\n",
      "  \"This module will be removed in 0.20.\", DeprecationWarning)\n",
      "/Users/tetyanadzhula/anaconda/lib/python2.7/site-packages/sklearn/grid_search.py:43: DeprecationWarning: This module was deprecated in version 0.18 in favor of the model_selection module into which all the refactored classes and functions are moved. This module will be removed in 0.20.\n",
      "  DeprecationWarning)\n"
     ]
    }
   ],
   "source": [
    "import pandas as pd\n",
    "import numpy as np\n",
    "from datetime import datetime\n",
    "import matplotlib.pyplot as plt\n",
    "%matplotlib inline\n",
    "from sklearn.metrics import classification_report, confusion_matrix, accuracy_score\n",
    "from sklearn.model_selection import train_test_split, cross_val_score\n",
    "from sklearn.linear_model import LogisticRegression, LogisticRegressionCV\n",
    "from sklearn.grid_search import GridSearchCV\n",
    "import math"
   ]
  },
  {
   "cell_type": "code",
   "execution_count": 2,
   "metadata": {
    "collapsed": false
   },
   "outputs": [
    {
     "data": {
      "text/plain": [
       "271"
      ]
     },
     "execution_count": 2,
     "metadata": {},
     "output_type": "execute_result"
    }
   ],
   "source": [
    "## I'm experiencing problems with scraping the data from the website - before I figure out how to scrape sufficient \n",
    "## amount of data - I will use the csv option on the website and download csv reports for 12 days from July, 2015\n",
    "df1 = pd.read_csv('./assets/report (2).csv')\n",
    "df1.ix[df1['topic_name'] == 'TOPIC OF THE DAY', ['topic_name']] = 'Ukrainian economy/industry'\n",
    "len(df1)"
   ]
  },
  {
   "cell_type": "code",
   "execution_count": 3,
   "metadata": {
    "collapsed": false
   },
   "outputs": [],
   "source": [
    "df2 = pd.read_csv('./assets/report (3).csv')\n",
    "df3 = pd.read_csv('./assets/report (4).csv')\n",
    "df4 = pd.read_csv('./assets/report (5).csv')\n",
    "df5 = pd.read_csv('./assets/report (6).csv')"
   ]
  },
  {
   "cell_type": "code",
   "execution_count": 4,
   "metadata": {
    "collapsed": false
   },
   "outputs": [],
   "source": [
    "df6 = pd.read_csv('./assets/7.csv')"
   ]
  },
  {
   "cell_type": "code",
   "execution_count": 5,
   "metadata": {
    "collapsed": true
   },
   "outputs": [],
   "source": [
    "## One of the categories, assigned to the articles is 'Topic of the day' - if there's breaking news or certain topic\n",
    "## is covered in most articles for the day - it is assigned the 'Topic of the day'. I have to decode these for each day\n",
    "# that has this category to be able to run my analysis.\n",
    "df7 = pd.read_csv('./assets/8.csv')\n",
    "df7.ix[df7['topic_name'] == 'TOPIC OF THE DAY', ['topic_name']] = 'Ukrainian government and society'"
   ]
  },
  {
   "cell_type": "code",
   "execution_count": 6,
   "metadata": {
    "collapsed": false
   },
   "outputs": [],
   "source": [
    "df8 = pd.read_csv('./assets/9.csv')\n",
    "df8.ix[df8['topic_name'] == 'TOPIC OF THE DAY', ['topic_name']] = 'MH-17 crash'"
   ]
  },
  {
   "cell_type": "code",
   "execution_count": 7,
   "metadata": {
    "collapsed": false
   },
   "outputs": [],
   "source": [
    "df9 = pd.read_csv('./assets/10.csv')\n",
    "df9.ix[df9['topic_name'] == 'TOPIC OF THE DAY', ['topic_name']] = 'MH-17 crash'"
   ]
  },
  {
   "cell_type": "code",
   "execution_count": 8,
   "metadata": {
    "collapsed": false
   },
   "outputs": [],
   "source": [
    "df10 = pd.read_csv('./assets/11.csv')"
   ]
  },
  {
   "cell_type": "code",
   "execution_count": 9,
   "metadata": {
    "collapsed": false
   },
   "outputs": [],
   "source": [
    "df11 = pd.read_csv('./assets/12.csv')\n",
    "df11.ix[df11['topic_name'] == 'TOPIC OF THE DAY', ['topic_name']] = 'Peace talks'"
   ]
  },
  {
   "cell_type": "code",
   "execution_count": 10,
   "metadata": {
    "collapsed": false
   },
   "outputs": [],
   "source": [
    "df12 = pd.read_csv('./assets/13.csv')\n",
    "df12.ix[df12['topic_name'] == 'TOPIC OF THE DAY', ['topic_name']] = 'MH-17 crash'"
   ]
  },
  {
   "cell_type": "code",
   "execution_count": 11,
   "metadata": {
    "collapsed": false
   },
   "outputs": [
    {
     "data": {
      "text/plain": [
       "3328"
      ]
     },
     "execution_count": 11,
     "metadata": {},
     "output_type": "execute_result"
    }
   ],
   "source": [
    "df = pd.concat([df1, df2, df3, df4, df5, df6, df7, df8, df9, df10, df11, df12])\n",
    "len(df)"
   ]
  },
  {
   "cell_type": "code",
   "execution_count": 12,
   "metadata": {
    "collapsed": false
   },
   "outputs": [],
   "source": [
    "df.reset_index(drop = True, inplace=True)\n"
   ]
  },
  {
   "cell_type": "code",
   "execution_count": 13,
   "metadata": {
    "collapsed": false
   },
   "outputs": [
    {
     "data": {
      "text/plain": [
       "Index([u'title', u'author', u'publisher_url', u'pub_week', u'pub_day',\n",
       "       u'pub_month', u'pub_daytime', u'language', u'language_id', u'sentiment',\n",
       "       u'social_fb', u'social_tw', u'impact_score', u'topic_name',\n",
       "       u'topic_name_en', u'topic_name_ua', u'page_url', u'is_today_utc',\n",
       "       u'is_lastnewscycle_utc', u'is_last13weeks_utc', u'pubday_pages',\n",
       "       u'pubday_annotations', u'is_main_topic', u'is_about_ukraine',\n",
       "       u'is_biased_publisher', u'is_pro_putin', u'hq_city', u'hq_country',\n",
       "       u'is_ukr_press', u'comments', u'editor'],\n",
       "      dtype='object')"
      ]
     },
     "execution_count": 13,
     "metadata": {},
     "output_type": "execute_result"
    }
   ],
   "source": [
    "df.columns"
   ]
  },
  {
   "cell_type": "code",
   "execution_count": 14,
   "metadata": {
    "collapsed": false
   },
   "outputs": [],
   "source": [
    "## Dropping some columns for now - there's no author specified for majority of the articles - so getting rid of this\n",
    "## feature for now. Later I'd like to run a test on only the data, that has author indicated and see if authors stick \n",
    "## to writing in one or few categories only and see if the name of the author could be a predictor for the topi of the article.\n",
    "df.drop('author', inplace=True, axis=1)"
   ]
  },
  {
   "cell_type": "code",
   "execution_count": 15,
   "metadata": {
    "collapsed": true
   },
   "outputs": [],
   "source": [
    "## 'editor' column contains the names of the editors and won't help in analysis and predictions. \n",
    "## Also getting rid of language and language_id - I am only working with English language section, so these are redundant.\n",
    "##\n",
    "df.drop('comments', inplace=True, axis=1)\n",
    "df.drop('editor', inplace=True, axis=1)\n",
    "df.drop('language', inplace=True, axis=1)\n",
    "df.drop('language_id', inplace=True, axis=1)\n",
    "df.drop('topic_name_en', inplace=True, axis=1)\n",
    "df.drop('topic_name_ua', inplace=True, axis=1)\n"
   ]
  },
  {
   "cell_type": "code",
   "execution_count": 16,
   "metadata": {
    "collapsed": false
   },
   "outputs": [],
   "source": [
    "df = df.dropna()"
   ]
  },
  {
   "cell_type": "code",
   "execution_count": 17,
   "metadata": {
    "collapsed": false
   },
   "outputs": [
    {
     "data": {
      "text/plain": [
       "3317"
      ]
     },
     "execution_count": 17,
     "metadata": {},
     "output_type": "execute_result"
    }
   ],
   "source": [
    "len(df)"
   ]
  },
  {
   "cell_type": "code",
   "execution_count": 18,
   "metadata": {
    "collapsed": false
   },
   "outputs": [
    {
     "data": {
      "text/plain": [
       "Index([u'title', u'publisher_url', u'pub_week', u'pub_day', u'pub_month',\n",
       "       u'pub_daytime', u'sentiment', u'social_fb', u'social_tw',\n",
       "       u'impact_score', u'topic_name', u'page_url', u'is_today_utc',\n",
       "       u'is_lastnewscycle_utc', u'is_last13weeks_utc', u'pubday_pages',\n",
       "       u'pubday_annotations', u'is_main_topic', u'is_about_ukraine',\n",
       "       u'is_biased_publisher', u'is_pro_putin', u'hq_city', u'hq_country',\n",
       "       u'is_ukr_press'],\n",
       "      dtype='object')"
      ]
     },
     "execution_count": 18,
     "metadata": {},
     "output_type": "execute_result"
    }
   ],
   "source": [
    "df.columns"
   ]
  },
  {
   "cell_type": "code",
   "execution_count": 19,
   "metadata": {
    "collapsed": false
   },
   "outputs": [],
   "source": [
    "categories = ['Crimea', 'Culture and history', 'Fighting in Eastern Ukraine', 'Global discussions about Ukraine',\\\n",
    "              'Humanitarian crisis in Eastern Ukraine', 'Life in DPR/LPR and near-front zone', 'Mentioning of Ukraine'\\\n",
    "              'MH-17 crash',  'Military/humanitarian aid for Ukraine', 'Not related to Ukraine', 'Other', 'Peace talks'\\\n",
    "              'Prisoners of war', 'Sanctions against Russia', 'Sport', 'Ukrainian economy/industry', \\\n",
    "              'Ukrainian government and society', 'Ukrainian international relations', 'Emergencies in Ukraine'\\\n",
    "             'Russian “humanitarian” aid']\n"
   ]
  },
  {
   "cell_type": "code",
   "execution_count": 20,
   "metadata": {
    "collapsed": false
   },
   "outputs": [
    {
     "data": {
      "text/html": [
       "<div>\n",
       "<table border=\"1\" class=\"dataframe\">\n",
       "  <thead>\n",
       "    <tr style=\"text-align: right;\">\n",
       "      <th></th>\n",
       "      <th>title</th>\n",
       "      <th>publisher_url</th>\n",
       "      <th>pub_week</th>\n",
       "      <th>pub_day</th>\n",
       "      <th>pub_month</th>\n",
       "      <th>pub_daytime</th>\n",
       "      <th>sentiment</th>\n",
       "      <th>social_fb</th>\n",
       "      <th>social_tw</th>\n",
       "      <th>impact_score</th>\n",
       "      <th>...</th>\n",
       "      <th>is_last13weeks_utc</th>\n",
       "      <th>pubday_pages</th>\n",
       "      <th>pubday_annotations</th>\n",
       "      <th>is_main_topic</th>\n",
       "      <th>is_about_ukraine</th>\n",
       "      <th>is_biased_publisher</th>\n",
       "      <th>is_pro_putin</th>\n",
       "      <th>hq_city</th>\n",
       "      <th>hq_country</th>\n",
       "      <th>is_ukr_press</th>\n",
       "    </tr>\n",
       "  </thead>\n",
       "  <tbody>\n",
       "    <tr>\n",
       "      <th>0</th>\n",
       "      <td>Dutch Safety Board Has Draft Report Into MH17 ...</td>\n",
       "      <td>www.nytimes.com</td>\n",
       "      <td>2015-26</td>\n",
       "      <td>2015-07-01</td>\n",
       "      <td>2015-07</td>\n",
       "      <td>01 Jul 15 00:00 UTC</td>\n",
       "      <td>neutral</td>\n",
       "      <td>16</td>\n",
       "      <td>11</td>\n",
       "      <td>27</td>\n",
       "      <td>...</td>\n",
       "      <td>0</td>\n",
       "      <td>0</td>\n",
       "      <td>0</td>\n",
       "      <td>1</td>\n",
       "      <td>1</td>\n",
       "      <td>0</td>\n",
       "      <td>0</td>\n",
       "      <td>Unknown</td>\n",
       "      <td>Unknown</td>\n",
       "      <td>0</td>\n",
       "    </tr>\n",
       "    <tr>\n",
       "      <th>1</th>\n",
       "      <td>Poland to support, develop industrial, coal mi...</td>\n",
       "      <td>philstar.com</td>\n",
       "      <td>2015-26</td>\n",
       "      <td>2015-07-01</td>\n",
       "      <td>2015-07</td>\n",
       "      <td>01 Jul 15 00:04 UTC</td>\n",
       "      <td>neutral</td>\n",
       "      <td>1</td>\n",
       "      <td>5</td>\n",
       "      <td>6</td>\n",
       "      <td>...</td>\n",
       "      <td>0</td>\n",
       "      <td>0</td>\n",
       "      <td>0</td>\n",
       "      <td>1</td>\n",
       "      <td>0</td>\n",
       "      <td>0</td>\n",
       "      <td>0</td>\n",
       "      <td>Unknown</td>\n",
       "      <td>Unknown</td>\n",
       "      <td>0</td>\n",
       "    </tr>\n",
       "    <tr>\n",
       "      <th>2</th>\n",
       "      <td>Talks Collapse; Ukraine Halts Purchases of Rus...</td>\n",
       "      <td>voanews.com</td>\n",
       "      <td>2015-26</td>\n",
       "      <td>2015-07-01</td>\n",
       "      <td>2015-07</td>\n",
       "      <td>01 Jul 15 00:11 UTC</td>\n",
       "      <td>neutral</td>\n",
       "      <td>16</td>\n",
       "      <td>50</td>\n",
       "      <td>66</td>\n",
       "      <td>...</td>\n",
       "      <td>0</td>\n",
       "      <td>0</td>\n",
       "      <td>0</td>\n",
       "      <td>1</td>\n",
       "      <td>1</td>\n",
       "      <td>0</td>\n",
       "      <td>0</td>\n",
       "      <td>Washington, DC</td>\n",
       "      <td>USA</td>\n",
       "      <td>0</td>\n",
       "    </tr>\n",
       "    <tr>\n",
       "      <th>3</th>\n",
       "      <td>Fight for Freedom - US vs Donbass</td>\n",
       "      <td>english.pravda.ru</td>\n",
       "      <td>2015-26</td>\n",
       "      <td>2015-07-01</td>\n",
       "      <td>2015-07</td>\n",
       "      <td>01 Jul 15 00:13 UTC</td>\n",
       "      <td>neutral</td>\n",
       "      <td>65</td>\n",
       "      <td>20</td>\n",
       "      <td>85</td>\n",
       "      <td>...</td>\n",
       "      <td>0</td>\n",
       "      <td>0</td>\n",
       "      <td>0</td>\n",
       "      <td>1</td>\n",
       "      <td>1</td>\n",
       "      <td>0</td>\n",
       "      <td>0</td>\n",
       "      <td>Moscow</td>\n",
       "      <td>Russia</td>\n",
       "      <td>0</td>\n",
       "    </tr>\n",
       "    <tr>\n",
       "      <th>4</th>\n",
       "      <td>MH17: Dutch Minister says last two victims' re...</td>\n",
       "      <td>themalaymailonline.com</td>\n",
       "      <td>2015-26</td>\n",
       "      <td>2015-07-01</td>\n",
       "      <td>2015-07</td>\n",
       "      <td>01 Jul 15 00:51 UTC</td>\n",
       "      <td>negative</td>\n",
       "      <td>8</td>\n",
       "      <td>8</td>\n",
       "      <td>16</td>\n",
       "      <td>...</td>\n",
       "      <td>0</td>\n",
       "      <td>0</td>\n",
       "      <td>0</td>\n",
       "      <td>1</td>\n",
       "      <td>1</td>\n",
       "      <td>0</td>\n",
       "      <td>0</td>\n",
       "      <td>Selangor</td>\n",
       "      <td>Malaysia</td>\n",
       "      <td>0</td>\n",
       "    </tr>\n",
       "  </tbody>\n",
       "</table>\n",
       "<p>5 rows × 24 columns</p>\n",
       "</div>"
      ],
      "text/plain": [
       "                                               title           publisher_url  \\\n",
       "0  Dutch Safety Board Has Draft Report Into MH17 ...         www.nytimes.com   \n",
       "1  Poland to support, develop industrial, coal mi...            philstar.com   \n",
       "2  Talks Collapse; Ukraine Halts Purchases of Rus...             voanews.com   \n",
       "3                  Fight for Freedom - US vs Donbass       english.pravda.ru   \n",
       "4  MH17: Dutch Minister says last two victims' re...  themalaymailonline.com   \n",
       "\n",
       "  pub_week     pub_day pub_month          pub_daytime sentiment  social_fb  \\\n",
       "0  2015-26  2015-07-01   2015-07  01 Jul 15 00:00 UTC   neutral         16   \n",
       "1  2015-26  2015-07-01   2015-07  01 Jul 15 00:04 UTC   neutral          1   \n",
       "2  2015-26  2015-07-01   2015-07  01 Jul 15 00:11 UTC   neutral         16   \n",
       "3  2015-26  2015-07-01   2015-07  01 Jul 15 00:13 UTC   neutral         65   \n",
       "4  2015-26  2015-07-01   2015-07  01 Jul 15 00:51 UTC  negative          8   \n",
       "\n",
       "   social_tw  impact_score      ...      is_last13weeks_utc pubday_pages  \\\n",
       "0         11            27      ...                       0            0   \n",
       "1          5             6      ...                       0            0   \n",
       "2         50            66      ...                       0            0   \n",
       "3         20            85      ...                       0            0   \n",
       "4          8            16      ...                       0            0   \n",
       "\n",
       "   pubday_annotations  is_main_topic  is_about_ukraine  is_biased_publisher  \\\n",
       "0                   0              1                 1                    0   \n",
       "1                   0              1                 0                    0   \n",
       "2                   0              1                 1                    0   \n",
       "3                   0              1                 1                    0   \n",
       "4                   0              1                 1                    0   \n",
       "\n",
       "   is_pro_putin         hq_city  hq_country  is_ukr_press  \n",
       "0             0         Unknown     Unknown             0  \n",
       "1             0         Unknown     Unknown             0  \n",
       "2             0  Washington, DC         USA             0  \n",
       "3             0          Moscow      Russia             0  \n",
       "4             0        Selangor    Malaysia             0  \n",
       "\n",
       "[5 rows x 24 columns]"
      ]
     },
     "execution_count": 20,
     "metadata": {},
     "output_type": "execute_result"
    }
   ],
   "source": [
    "df.head(5)"
   ]
  },
  {
   "cell_type": "code",
   "execution_count": 21,
   "metadata": {
    "collapsed": false
   },
   "outputs": [
    {
     "name": "stdout",
     "output_type": "stream",
     "text": [
      "<class 'pandas.core.frame.DataFrame'>\n",
      "Int64Index: 3317 entries, 0 to 3327\n",
      "Data columns (total 24 columns):\n",
      "title                   3317 non-null object\n",
      "publisher_url           3317 non-null object\n",
      "pub_week                3317 non-null object\n",
      "pub_day                 3317 non-null object\n",
      "pub_month               3317 non-null object\n",
      "pub_daytime             3317 non-null object\n",
      "sentiment               3317 non-null object\n",
      "social_fb               3317 non-null int64\n",
      "social_tw               3317 non-null int64\n",
      "impact_score            3317 non-null int64\n",
      "topic_name              3317 non-null object\n",
      "page_url                3317 non-null object\n",
      "is_today_utc            3317 non-null int64\n",
      "is_lastnewscycle_utc    3317 non-null int64\n",
      "is_last13weeks_utc      3317 non-null int64\n",
      "pubday_pages            3317 non-null int64\n",
      "pubday_annotations      3317 non-null int64\n",
      "is_main_topic           3317 non-null int64\n",
      "is_about_ukraine        3317 non-null int64\n",
      "is_biased_publisher     3317 non-null int64\n",
      "is_pro_putin            3317 non-null int64\n",
      "hq_city                 3317 non-null object\n",
      "hq_country              3317 non-null object\n",
      "is_ukr_press            3317 non-null int64\n",
      "dtypes: int64(13), object(11)\n",
      "memory usage: 647.9+ KB\n"
     ]
    }
   ],
   "source": [
    "df.info()"
   ]
  },
  {
   "cell_type": "code",
   "execution_count": 22,
   "metadata": {
    "collapsed": false
   },
   "outputs": [
    {
     "data": {
      "text/plain": [
       "kyivpost.com                    385\n",
       "en.interfax.com.ua              136\n",
       "sputniknews.com                 129\n",
       "uatoday.tv                      115\n",
       "news.yahoo.com                   62\n",
       "themoscowtimes.com               55\n",
       "rferl.org                        44\n",
       "ibtimes.com                      44\n",
       "rt.com                           43\n",
       "reuters.com                      33\n",
       "channelnewsasia.com              27\n",
       "dailymail.co.uk                  27\n",
       "english.pravda.ru                21\n",
       "uk.reuters.com                   20\n",
       "bbc.co.uk                        19\n",
       "bloomberg.com                    19\n",
       "businessinsider.com              19\n",
       "dailystar.com.lb                 18\n",
       "voanews.com                      18\n",
       "nytimes.com                      18\n",
       "wsj.com                          17\n",
       "euronews.com                     17\n",
       "uk.news.yahoo.com                16\n",
       "upi.com                          16\n",
       "theguardian.com                  16\n",
       "nrcu.gov.ua                      16\n",
       "economictimes.indiatimes.com     16\n",
       "rbth.com                         15\n",
       "goal.com                         14\n",
       "huffingtonpost.com               14\n",
       "Name: publisher_url, dtype: int64"
      ]
     },
     "execution_count": 22,
     "metadata": {},
     "output_type": "execute_result"
    }
   ],
   "source": [
    "# Naturally, two big Ukrainian English-speaking media outlets came on top in reporting about Ukraine. Following them we\\\n",
    "# have russian media outlet Sputnik, then another Ukrainian channel, Yahoo and then Moscowtimes. Besides Eastern European,\\\n",
    "# media, International Business Times, headquartered in NY, seems to be reporting about Ukraine a lot.\n",
    "# So we have Ukraine talking about itself, then Russia and US talking about Ukraine. Then there's an assortment of UK\\\n",
    "# and other US media reporting on Ukraine.\n",
    "df['publisher_url'].value_counts().head(30)"
   ]
  },
  {
   "cell_type": "code",
   "execution_count": 23,
   "metadata": {
    "collapsed": false
   },
   "outputs": [
    {
     "data": {
      "text/plain": [
       "2631    92808\n",
       "2064    31288\n",
       "2864    25055\n",
       "2873    24999\n",
       "652     20880\n",
       "83      16053\n",
       "642     15683\n",
       "1828    12572\n",
       "1753    12564\n",
       "1740    12562\n",
       "Name: social_fb, dtype: int64"
      ]
     },
     "execution_count": 23,
     "metadata": {},
     "output_type": "execute_result"
    }
   ],
   "source": [
    "df['social_fb'].sort_values(ascending=False).head(10)"
   ]
  },
  {
   "cell_type": "code",
   "execution_count": 24,
   "metadata": {
    "collapsed": false
   },
   "outputs": [
    {
     "data": {
      "text/html": [
       "<div>\n",
       "<table border=\"1\" class=\"dataframe\">\n",
       "  <thead>\n",
       "    <tr style=\"text-align: right;\">\n",
       "      <th></th>\n",
       "      <th>title</th>\n",
       "      <th>social_fb</th>\n",
       "      <th>topic_name</th>\n",
       "    </tr>\n",
       "  </thead>\n",
       "  <tbody>\n",
       "    <tr>\n",
       "      <th>2631</th>\n",
       "      <td>Robin van Persie: No honest chance of Man Unit...</td>\n",
       "      <td>92808</td>\n",
       "      <td>Not related to Ukraine</td>\n",
       "    </tr>\n",
       "  </tbody>\n",
       "</table>\n",
       "</div>"
      ],
      "text/plain": [
       "                                                  title  social_fb  \\\n",
       "2631  Robin van Persie: No honest chance of Man Unit...      92808   \n",
       "\n",
       "                  topic_name  \n",
       "2631  Not related to Ukraine  "
      ]
     },
     "execution_count": 24,
     "metadata": {},
     "output_type": "execute_result"
    }
   ],
   "source": [
    "# Article that had the highest social impact in my database is in the category \"Not related to Ukraine\".\n",
    "# Looks like it's a sports article (those can mention Ukraine as a country hosting a game or a player being from Ukraine\\\n",
    "# and this mentioning is considered to be insignificant and the article is put into \"Not related to Ukraine\")\n",
    "df[df['social_fb'] ==92808][['title', 'social_fb', 'topic_name']]\n"
   ]
  },
  {
   "cell_type": "code",
   "execution_count": 25,
   "metadata": {
    "collapsed": false
   },
   "outputs": [
    {
     "data": {
      "text/html": [
       "<div>\n",
       "<table border=\"1\" class=\"dataframe\">\n",
       "  <thead>\n",
       "    <tr style=\"text-align: right;\">\n",
       "      <th></th>\n",
       "      <th>title</th>\n",
       "      <th>social_fb</th>\n",
       "      <th>topic_name</th>\n",
       "    </tr>\n",
       "  </thead>\n",
       "  <tbody>\n",
       "    <tr>\n",
       "      <th>83</th>\n",
       "      <td>Bayern Munich sign Brazilian Douglas Costa fro...</td>\n",
       "      <td>16053</td>\n",
       "      <td>Sport</td>\n",
       "    </tr>\n",
       "    <tr>\n",
       "      <th>642</th>\n",
       "      <td>Putin Sends Obama an Independence Day Message</td>\n",
       "      <td>15683</td>\n",
       "      <td>Not related to Ukraine</td>\n",
       "    </tr>\n",
       "    <tr>\n",
       "      <th>652</th>\n",
       "      <td>Europe's security organization says Kiev viola...</td>\n",
       "      <td>20880</td>\n",
       "      <td>Peace talks</td>\n",
       "    </tr>\n",
       "    <tr>\n",
       "      <th>1740</th>\n",
       "      <td>First on CNN: Sources say MH17 report blames p...</td>\n",
       "      <td>12562</td>\n",
       "      <td>Fighting in Eastern Ukraine</td>\n",
       "    </tr>\n",
       "    <tr>\n",
       "      <th>1753</th>\n",
       "      <td>First on CNN: Sources say MH17 report blames p...</td>\n",
       "      <td>12564</td>\n",
       "      <td>Fighting in Eastern Ukraine</td>\n",
       "    </tr>\n",
       "    <tr>\n",
       "      <th>1828</th>\n",
       "      <td>First on CNN: Sources say MH17 report blames p...</td>\n",
       "      <td>12572</td>\n",
       "      <td>Fighting in Eastern Ukraine</td>\n",
       "    </tr>\n",
       "    <tr>\n",
       "      <th>2064</th>\n",
       "      <td>Champions League third qualifying round draw</td>\n",
       "      <td>31288</td>\n",
       "      <td>Fighting in Eastern Ukraine</td>\n",
       "    </tr>\n",
       "    <tr>\n",
       "      <th>2631</th>\n",
       "      <td>Robin van Persie: No honest chance of Man Unit...</td>\n",
       "      <td>92808</td>\n",
       "      <td>Not related to Ukraine</td>\n",
       "    </tr>\n",
       "    <tr>\n",
       "      <th>2864</th>\n",
       "      <td>July Fourth message not the first from Russian...</td>\n",
       "      <td>25055</td>\n",
       "      <td>Not related to Ukraine</td>\n",
       "    </tr>\n",
       "    <tr>\n",
       "      <th>2873</th>\n",
       "      <td>July Fourth message not the first from Russian...</td>\n",
       "      <td>24999</td>\n",
       "      <td>Not related to Ukraine</td>\n",
       "    </tr>\n",
       "  </tbody>\n",
       "</table>\n",
       "</div>"
      ],
      "text/plain": [
       "                                                  title  social_fb  \\\n",
       "83    Bayern Munich sign Brazilian Douglas Costa fro...      16053   \n",
       "642       Putin Sends Obama an Independence Day Message      15683   \n",
       "652   Europe's security organization says Kiev viola...      20880   \n",
       "1740  First on CNN: Sources say MH17 report blames p...      12562   \n",
       "1753  First on CNN: Sources say MH17 report blames p...      12564   \n",
       "1828  First on CNN: Sources say MH17 report blames p...      12572   \n",
       "2064       Champions League third qualifying round draw      31288   \n",
       "2631  Robin van Persie: No honest chance of Man Unit...      92808   \n",
       "2864  July Fourth message not the first from Russian...      25055   \n",
       "2873  July Fourth message not the first from Russian...      24999   \n",
       "\n",
       "                       topic_name  \n",
       "83                          Sport  \n",
       "642        Not related to Ukraine  \n",
       "652                   Peace talks  \n",
       "1740  Fighting in Eastern Ukraine  \n",
       "1753  Fighting in Eastern Ukraine  \n",
       "1828  Fighting in Eastern Ukraine  \n",
       "2064  Fighting in Eastern Ukraine  \n",
       "2631       Not related to Ukraine  \n",
       "2864       Not related to Ukraine  \n",
       "2873       Not related to Ukraine  "
      ]
     },
     "execution_count": 25,
     "metadata": {},
     "output_type": "execute_result"
    }
   ],
   "source": [
    "# Most popular articles on those days (by Facebook likes and shares)\n",
    "df[df['social_fb'] >12000][['title', 'social_fb', 'topic_name']]"
   ]
  },
  {
   "cell_type": "code",
   "execution_count": 26,
   "metadata": {
    "collapsed": false
   },
   "outputs": [
    {
     "data": {
      "text/plain": [
       "3317"
      ]
     },
     "execution_count": 26,
     "metadata": {},
     "output_type": "execute_result"
    }
   ],
   "source": [
    "data = df.ix[:, ['title', 'topic_name']]\n",
    "len(data)"
   ]
  },
  {
   "cell_type": "code",
   "execution_count": 27,
   "metadata": {
    "collapsed": true
   },
   "outputs": [],
   "source": [
    "# for x in data['topic_name']:\n",
    "#     if x not in categories:\n",
    "#         data.drop(data['topic_name'] ==x)\n",
    "#     else:\n",
    "#         pass\n",
    "    "
   ]
  },
  {
   "cell_type": "code",
   "execution_count": 28,
   "metadata": {
    "collapsed": false
   },
   "outputs": [],
   "source": [
    "categories_dict = {'Crimea' :1, 'Culture and history' :2, 'Fighting in Eastern Ukraine':3, \\\n",
    "                   'Global discussions about Ukraine':4, 'Humanitarian crisis in Eastern Ukraine':5, \\\n",
    "                   'Life in DPR/LPR and near-front zone':6, 'Mentioning of Ukraine':7, \\\n",
    "                   'MH-17 crash':8,  'Military/humanitarian aid for Ukraine':9, 'Not related to Ukraine':10, \\\n",
    "                   'Other':11, 'Peace talks':12, 'Prisoners of war':13, 'Sanctions against Russia':14, 'Sport':15, \\\n",
    "                   'Ukrainian economy/industry':16, 'Ukrainian government and society':17, \\\n",
    "                   'Ukrainian international relations' :18, 'Emergencies in Ukraine':19, \\\n",
    "                  'Russian “humanitarian” aid':20}\n",
    "    \n",
    "data['c_label'] = data['topic_name'].apply(lambda x: categories_dict[x])"
   ]
  },
  {
   "cell_type": "code",
   "execution_count": 29,
   "metadata": {
    "collapsed": false
   },
   "outputs": [
    {
     "data": {
      "text/html": [
       "<div>\n",
       "<table border=\"1\" class=\"dataframe\">\n",
       "  <thead>\n",
       "    <tr style=\"text-align: right;\">\n",
       "      <th></th>\n",
       "      <th>title</th>\n",
       "      <th>topic_name</th>\n",
       "      <th>c_label</th>\n",
       "    </tr>\n",
       "  </thead>\n",
       "  <tbody>\n",
       "    <tr>\n",
       "      <th>0</th>\n",
       "      <td>Dutch Safety Board Has Draft Report Into MH17 ...</td>\n",
       "      <td>MH-17 crash</td>\n",
       "      <td>8</td>\n",
       "    </tr>\n",
       "    <tr>\n",
       "      <th>1</th>\n",
       "      <td>Poland to support, develop industrial, coal mi...</td>\n",
       "      <td>Not related to Ukraine</td>\n",
       "      <td>10</td>\n",
       "    </tr>\n",
       "  </tbody>\n",
       "</table>\n",
       "</div>"
      ],
      "text/plain": [
       "                                               title              topic_name  \\\n",
       "0  Dutch Safety Board Has Draft Report Into MH17 ...             MH-17 crash   \n",
       "1  Poland to support, develop industrial, coal mi...  Not related to Ukraine   \n",
       "\n",
       "   c_label  \n",
       "0        8  \n",
       "1       10  "
      ]
     },
     "execution_count": 29,
     "metadata": {},
     "output_type": "execute_result"
    }
   ],
   "source": [
    "data.head(2)"
   ]
  },
  {
   "cell_type": "code",
   "execution_count": 30,
   "metadata": {
    "collapsed": true
   },
   "outputs": [],
   "source": [
    "X = data['title']"
   ]
  },
  {
   "cell_type": "code",
   "execution_count": 31,
   "metadata": {
    "collapsed": false
   },
   "outputs": [],
   "source": [
    "# Using CountVerctorizer, I will get a count for the number of times each word appears in the title, removing stop words.\\\n",
    "# After that, I'll have a list of most frequent words for each of my 20 categories and make them my features.\n",
    "# With that feature set I will be ready to start testing the models - I am planning on trying Logistic Regression and \\\n",
    "# Random Forest."
   ]
  },
  {
   "cell_type": "code",
   "execution_count": 32,
   "metadata": {
    "collapsed": false
   },
   "outputs": [],
   "source": [
    "from sklearn.feature_extraction.text import CountVectorizer"
   ]
  },
  {
   "cell_type": "code",
   "execution_count": 33,
   "metadata": {
    "collapsed": false
   },
   "outputs": [
    {
     "data": {
      "text/plain": [
       "CountVectorizer(analyzer=u'word', binary=False, decode_error=u'strict',\n",
       "        dtype=<type 'numpy.int64'>, encoding=u'utf-8', input=u'content',\n",
       "        lowercase=True, max_df=1.0, max_features=None, min_df=1,\n",
       "        ngram_range=(1, 1), preprocessor=None, stop_words=None,\n",
       "        strip_accents=None, token_pattern=u'(?u)\\\\b\\\\w\\\\w+\\\\b',\n",
       "        tokenizer=None, vocabulary=None)"
      ]
     },
     "execution_count": 33,
     "metadata": {},
     "output_type": "execute_result"
    }
   ],
   "source": [
    "cvec = CountVectorizer()\n",
    "cvec.fit(X)"
   ]
  },
  {
   "cell_type": "code",
   "execution_count": 34,
   "metadata": {
    "collapsed": false
   },
   "outputs": [
    {
     "data": {
      "text/plain": [
       "4607"
      ]
     },
     "execution_count": 34,
     "metadata": {},
     "output_type": "execute_result"
    }
   ],
   "source": [
    "len(cvec.get_feature_names())"
   ]
  },
  {
   "cell_type": "code",
   "execution_count": 35,
   "metadata": {
    "collapsed": false
   },
   "outputs": [
    {
     "data": {
      "text/plain": [
       "4404"
      ]
     },
     "execution_count": 35,
     "metadata": {},
     "output_type": "execute_result"
    }
   ],
   "source": [
    "cvec = CountVectorizer(stop_words='english')\n",
    "cvec.fit(X)\n",
    "len(cvec.get_feature_names())"
   ]
  },
  {
   "cell_type": "code",
   "execution_count": 36,
   "metadata": {
    "collapsed": false
   },
   "outputs": [],
   "source": [
    "X_train = pd.DataFrame(cvec.transform(X).todense(), columns=cvec.get_feature_names())"
   ]
  },
  {
   "cell_type": "code",
   "execution_count": 37,
   "metadata": {
    "collapsed": false
   },
   "outputs": [
    {
     "data": {
      "text/plain": [
       "ukraine       1458\n",
       "russia         483\n",
       "mh17           423\n",
       "russian        295\n",
       "ukrainian      277\n",
       "new            162\n",
       "putin          155\n",
       "rebels         141\n",
       "east           140\n",
       "kiev           134\n",
       "gas            133\n",
       "news           126\n",
       "donetsk        124\n",
       "says           122\n",
       "year           120\n",
       "war            116\n",
       "calls          113\n",
       "crash          101\n",
       "poroshenko     100\n",
       "deal            90\n",
       "tribunal        81\n",
       "elections       81\n",
       "victims         80\n",
       "held            78\n",
       "local           78\n",
       "rebel           78\n",
       "downing         75\n",
       "world           75\n",
       "military        74\n",
       "crimea          73\n",
       "dtype: int64"
      ]
     },
     "execution_count": 37,
     "metadata": {},
     "output_type": "execute_result"
    }
   ],
   "source": [
    "word_counts = X_train.sum(axis=0)\n",
    "word_counts.sort_values(ascending = False).head(30)"
   ]
  },
  {
   "cell_type": "code",
   "execution_count": null,
   "metadata": {
    "collapsed": false
   },
   "outputs": [],
   "source": [
    "y_train = data['c_label']"
   ]
  },
  {
   "cell_type": "code",
   "execution_count": null,
   "metadata": {
    "collapsed": false
   },
   "outputs": [],
   "source": [
    "common_words = []\n",
    "for i in xrange(len(categories)):\n",
    "    word_count = X_train[y_train==i].sum()\n",
    "    print categories[i], \"most common words\"\n",
    "    cw = word_count.sort_values(ascending = False).head(20)\n",
    "\n",
    "    print cw\n",
    "    common_words.extend(cw.index)\n",
    "    print"
   ]
  }
 ],
 "metadata": {
  "kernelspec": {
   "display_name": "Python 2",
   "language": "python",
   "name": "python2"
  },
  "language_info": {
   "codemirror_mode": {
    "name": "ipython",
    "version": 2
   },
   "file_extension": ".py",
   "mimetype": "text/x-python",
   "name": "python",
   "nbconvert_exporter": "python",
   "pygments_lexer": "ipython2",
   "version": "2.7.13"
  }
 },
 "nbformat": 4,
 "nbformat_minor": 2
}
